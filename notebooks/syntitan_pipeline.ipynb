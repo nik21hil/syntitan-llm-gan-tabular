{
 "cells": [
  {
   "cell_type": "code",
   "execution_count": 1,
   "id": "24b14c43-ff48-41c7-a71b-14f48b2f2233",
   "metadata": {
    "execution": {
     "iopub.execute_input": "2025-07-07T06:29:19.674808Z",
     "iopub.status.busy": "2025-07-07T06:29:19.674452Z",
     "iopub.status.idle": "2025-07-07T06:29:22.076677Z",
     "shell.execute_reply": "2025-07-07T06:29:22.076043Z",
     "shell.execute_reply.started": "2025-07-07T06:29:19.674787Z"
    },
    "scrolled": true
   },
   "outputs": [
    {
     "name": "stdout",
     "output_type": "stream",
     "text": [
      "Requirement already satisfied: boto3 in /opt/conda/lib/python3.12/site-packages (1.39.3)\n",
      "Requirement already satisfied: sagemaker in /opt/conda/lib/python3.12/site-packages (2.247.1)\n",
      "Requirement already satisfied: botocore<1.40.0,>=1.39.3 in /opt/conda/lib/python3.12/site-packages (from boto3) (1.39.3)\n",
      "Requirement already satisfied: jmespath<2.0.0,>=0.7.1 in /opt/conda/lib/python3.12/site-packages (from boto3) (1.0.1)\n",
      "Requirement already satisfied: s3transfer<0.14.0,>=0.13.0 in /opt/conda/lib/python3.12/site-packages (from boto3) (0.13.0)\n",
      "Requirement already satisfied: python-dateutil<3.0.0,>=2.1 in /opt/conda/lib/python3.12/site-packages (from botocore<1.40.0,>=1.39.3->boto3) (2.9.0.post0)\n",
      "Requirement already satisfied: urllib3!=2.2.0,<3,>=1.25.4 in /opt/conda/lib/python3.12/site-packages (from botocore<1.40.0,>=1.39.3->boto3) (1.26.19)\n",
      "Requirement already satisfied: six>=1.5 in /opt/conda/lib/python3.12/site-packages (from python-dateutil<3.0.0,>=2.1->botocore<1.40.0,>=1.39.3->boto3) (1.17.0)\n",
      "Requirement already satisfied: attrs<26,>=24 in /opt/conda/lib/python3.12/site-packages (from sagemaker) (25.3.0)\n",
      "Requirement already satisfied: cloudpickle>=2.2.1 in /opt/conda/lib/python3.12/site-packages (from sagemaker) (3.1.1)\n",
      "Requirement already satisfied: docker in /opt/conda/lib/python3.12/site-packages (from sagemaker) (7.1.0)\n",
      "Requirement already satisfied: fastapi in /opt/conda/lib/python3.12/site-packages (from sagemaker) (0.115.12)\n",
      "Requirement already satisfied: google-pasta in /opt/conda/lib/python3.12/site-packages (from sagemaker) (0.2.0)\n",
      "Requirement already satisfied: graphene<4,>=3 in /opt/conda/lib/python3.12/site-packages (from sagemaker) (3.4.3)\n",
      "Requirement already satisfied: importlib-metadata<7.0,>=1.4.0 in /opt/conda/lib/python3.12/site-packages (from sagemaker) (6.10.0)\n",
      "Requirement already satisfied: jsonschema in /opt/conda/lib/python3.12/site-packages (from sagemaker) (4.23.0)\n",
      "Requirement already satisfied: numpy==1.26.4 in /opt/conda/lib/python3.12/site-packages (from sagemaker) (1.26.4)\n",
      "Requirement already satisfied: omegaconf<3,>=2.2 in /opt/conda/lib/python3.12/site-packages (from sagemaker) (2.3.0)\n",
      "Requirement already satisfied: packaging<25,>=23.0 in /opt/conda/lib/python3.12/site-packages (from sagemaker) (24.2)\n",
      "Requirement already satisfied: pandas in /opt/conda/lib/python3.12/site-packages (from sagemaker) (2.2.3)\n",
      "Requirement already satisfied: pathos in /opt/conda/lib/python3.12/site-packages (from sagemaker) (0.3.4)\n",
      "Requirement already satisfied: platformdirs in /opt/conda/lib/python3.12/site-packages (from sagemaker) (4.3.8)\n",
      "Requirement already satisfied: protobuf<6.0,>=3.12 in /opt/conda/lib/python3.12/site-packages (from sagemaker) (5.28.3)\n",
      "Requirement already satisfied: psutil in /opt/conda/lib/python3.12/site-packages (from sagemaker) (5.9.8)\n",
      "Requirement already satisfied: pyyaml>=6.0.1 in /opt/conda/lib/python3.12/site-packages (from sagemaker) (6.0.2)\n",
      "Requirement already satisfied: requests in /opt/conda/lib/python3.12/site-packages (from sagemaker) (2.32.3)\n",
      "Requirement already satisfied: sagemaker-core<2.0.0,>=1.0.17 in /opt/conda/lib/python3.12/site-packages (from sagemaker) (1.0.35)\n",
      "Requirement already satisfied: schema in /opt/conda/lib/python3.12/site-packages (from sagemaker) (0.7.7)\n",
      "Requirement already satisfied: smdebug-rulesconfig==1.0.1 in /opt/conda/lib/python3.12/site-packages (from sagemaker) (1.0.1)\n",
      "Requirement already satisfied: tblib<4,>=1.7.0 in /opt/conda/lib/python3.12/site-packages (from sagemaker) (3.1.0)\n",
      "Requirement already satisfied: tqdm in /opt/conda/lib/python3.12/site-packages (from sagemaker) (4.67.1)\n",
      "Requirement already satisfied: uvicorn in /opt/conda/lib/python3.12/site-packages (from sagemaker) (0.34.2)\n",
      "Requirement already satisfied: graphql-core<3.3,>=3.1 in /opt/conda/lib/python3.12/site-packages (from graphene<4,>=3->sagemaker) (3.2.6)\n",
      "Requirement already satisfied: graphql-relay<3.3,>=3.1 in /opt/conda/lib/python3.12/site-packages (from graphene<4,>=3->sagemaker) (3.2.0)\n",
      "Requirement already satisfied: typing-extensions<5,>=4.7.1 in /opt/conda/lib/python3.12/site-packages (from graphene<4,>=3->sagemaker) (4.13.2)\n",
      "Requirement already satisfied: zipp>=0.5 in /opt/conda/lib/python3.12/site-packages (from importlib-metadata<7.0,>=1.4.0->sagemaker) (3.22.0)\n",
      "Requirement already satisfied: antlr4-python3-runtime==4.9.* in /opt/conda/lib/python3.12/site-packages (from omegaconf<3,>=2.2->sagemaker) (4.9.3)\n",
      "Requirement already satisfied: pydantic<3.0.0,>=2.0.0 in /opt/conda/lib/python3.12/site-packages (from sagemaker-core<2.0.0,>=1.0.17->sagemaker) (2.11.4)\n",
      "Requirement already satisfied: rich<15.0.0,>=14.0.0 in /opt/conda/lib/python3.12/site-packages (from sagemaker-core<2.0.0,>=1.0.17->sagemaker) (14.0.0)\n",
      "Requirement already satisfied: mock<5.0,>4.0 in /opt/conda/lib/python3.12/site-packages (from sagemaker-core<2.0.0,>=1.0.17->sagemaker) (4.0.3)\n",
      "Requirement already satisfied: jsonschema-specifications>=2023.03.6 in /opt/conda/lib/python3.12/site-packages (from jsonschema->sagemaker) (2025.4.1)\n",
      "Requirement already satisfied: referencing>=0.28.4 in /opt/conda/lib/python3.12/site-packages (from jsonschema->sagemaker) (0.36.2)\n",
      "Requirement already satisfied: rpds-py>=0.7.1 in /opt/conda/lib/python3.12/site-packages (from jsonschema->sagemaker) (0.25.1)\n",
      "Requirement already satisfied: annotated-types>=0.6.0 in /opt/conda/lib/python3.12/site-packages (from pydantic<3.0.0,>=2.0.0->sagemaker-core<2.0.0,>=1.0.17->sagemaker) (0.7.0)\n",
      "Requirement already satisfied: pydantic-core==2.33.2 in /opt/conda/lib/python3.12/site-packages (from pydantic<3.0.0,>=2.0.0->sagemaker-core<2.0.0,>=1.0.17->sagemaker) (2.33.2)\n",
      "Requirement already satisfied: typing-inspection>=0.4.0 in /opt/conda/lib/python3.12/site-packages (from pydantic<3.0.0,>=2.0.0->sagemaker-core<2.0.0,>=1.0.17->sagemaker) (0.4.1)\n",
      "Requirement already satisfied: markdown-it-py>=2.2.0 in /opt/conda/lib/python3.12/site-packages (from rich<15.0.0,>=14.0.0->sagemaker-core<2.0.0,>=1.0.17->sagemaker) (3.0.0)\n",
      "Requirement already satisfied: pygments<3.0.0,>=2.13.0 in /opt/conda/lib/python3.12/site-packages (from rich<15.0.0,>=14.0.0->sagemaker-core<2.0.0,>=1.0.17->sagemaker) (2.19.1)\n",
      "Requirement already satisfied: mdurl~=0.1 in /opt/conda/lib/python3.12/site-packages (from markdown-it-py>=2.2.0->rich<15.0.0,>=14.0.0->sagemaker-core<2.0.0,>=1.0.17->sagemaker) (0.1.2)\n",
      "Requirement already satisfied: charset_normalizer<4,>=2 in /opt/conda/lib/python3.12/site-packages (from requests->sagemaker) (3.4.2)\n",
      "Requirement already satisfied: idna<4,>=2.5 in /opt/conda/lib/python3.12/site-packages (from requests->sagemaker) (3.10)\n",
      "Requirement already satisfied: certifi>=2017.4.17 in /opt/conda/lib/python3.12/site-packages (from requests->sagemaker) (2025.4.26)\n",
      "Requirement already satisfied: starlette<0.47.0,>=0.40.0 in /opt/conda/lib/python3.12/site-packages (from fastapi->sagemaker) (0.46.2)\n",
      "Requirement already satisfied: anyio<5,>=3.6.2 in /opt/conda/lib/python3.12/site-packages (from starlette<0.47.0,>=0.40.0->fastapi->sagemaker) (4.9.0)\n",
      "Requirement already satisfied: sniffio>=1.1 in /opt/conda/lib/python3.12/site-packages (from anyio<5,>=3.6.2->starlette<0.47.0,>=0.40.0->fastapi->sagemaker) (1.3.1)\n",
      "Requirement already satisfied: pytz>=2020.1 in /opt/conda/lib/python3.12/site-packages (from pandas->sagemaker) (2024.2)\n",
      "Requirement already satisfied: tzdata>=2022.7 in /opt/conda/lib/python3.12/site-packages (from pandas->sagemaker) (2025.2)\n",
      "Requirement already satisfied: ppft>=1.7.7 in /opt/conda/lib/python3.12/site-packages (from pathos->sagemaker) (1.7.7)\n",
      "Requirement already satisfied: dill>=0.4.0 in /opt/conda/lib/python3.12/site-packages (from pathos->sagemaker) (0.4.0)\n",
      "Requirement already satisfied: pox>=0.3.6 in /opt/conda/lib/python3.12/site-packages (from pathos->sagemaker) (0.3.6)\n",
      "Requirement already satisfied: multiprocess>=0.70.18 in /opt/conda/lib/python3.12/site-packages (from pathos->sagemaker) (0.70.18)\n",
      "Requirement already satisfied: click>=7.0 in /opt/conda/lib/python3.12/site-packages (from uvicorn->sagemaker) (8.2.1)\n",
      "Requirement already satisfied: h11>=0.8 in /opt/conda/lib/python3.12/site-packages (from uvicorn->sagemaker) (0.16.0)\n"
     ]
    }
   ],
   "source": [
    "!pip install boto3 sagemaker --upgrade"
   ]
  },
  {
   "cell_type": "code",
   "execution_count": 2,
   "id": "0f9bcbc2-4e74-44bd-82a4-c397031fafe9",
   "metadata": {
    "execution": {
     "iopub.execute_input": "2025-07-07T06:29:22.078136Z",
     "iopub.status.busy": "2025-07-07T06:29:22.077605Z",
     "iopub.status.idle": "2025-07-07T06:29:24.056784Z",
     "shell.execute_reply": "2025-07-07T06:29:24.056018Z",
     "shell.execute_reply.started": "2025-07-07T06:29:22.078105Z"
    }
   },
   "outputs": [
    {
     "name": "stdout",
     "output_type": "stream",
     "text": [
      "sagemaker.config INFO - Not applying SDK defaults from location: /etc/xdg/sagemaker/config.yaml\n",
      "sagemaker.config INFO - Not applying SDK defaults from location: /home/sagemaker-user/.config/sagemaker/config.yaml\n"
     ]
    }
   ],
   "source": [
    "import boto3\n",
    "import json\n",
    "import sagemaker\n",
    "import pandas as pd\n",
    "import json\n",
    "import re\n",
    "import numpy as np"
   ]
  },
  {
   "cell_type": "code",
   "execution_count": 3,
   "id": "e78e435c-18b8-4cf9-b7cf-ef441dc1cf71",
   "metadata": {
    "execution": {
     "iopub.execute_input": "2025-07-07T06:29:24.057967Z",
     "iopub.status.busy": "2025-07-07T06:29:24.057699Z",
     "iopub.status.idle": "2025-07-07T06:29:24.126811Z",
     "shell.execute_reply": "2025-07-07T06:29:24.126028Z",
     "shell.execute_reply.started": "2025-07-07T06:29:24.057935Z"
    }
   },
   "outputs": [],
   "source": [
    "sm_runtime = boto3.client('sagemaker-runtime')"
   ]
  },
  {
   "cell_type": "code",
   "execution_count": 4,
   "id": "74df2a83-0b30-4565-8549-ddf079d338df",
   "metadata": {
    "execution": {
     "iopub.execute_input": "2025-07-07T06:29:24.128238Z",
     "iopub.status.busy": "2025-07-07T06:29:24.127700Z",
     "iopub.status.idle": "2025-07-07T06:29:25.089291Z",
     "shell.execute_reply": "2025-07-07T06:29:25.088540Z",
     "shell.execute_reply.started": "2025-07-07T06:29:24.128206Z"
    }
   },
   "outputs": [
    {
     "name": "stdout",
     "output_type": "stream",
     "text": [
      "Dataset loaded. Shape: (32561, 15)\n"
     ]
    },
    {
     "data": {
      "text/html": [
       "<div>\n",
       "<style scoped>\n",
       "    .dataframe tbody tr th:only-of-type {\n",
       "        vertical-align: middle;\n",
       "    }\n",
       "\n",
       "    .dataframe tbody tr th {\n",
       "        vertical-align: top;\n",
       "    }\n",
       "\n",
       "    .dataframe thead th {\n",
       "        text-align: right;\n",
       "    }\n",
       "</style>\n",
       "<table border=\"1\" class=\"dataframe\">\n",
       "  <thead>\n",
       "    <tr style=\"text-align: right;\">\n",
       "      <th></th>\n",
       "      <th>age</th>\n",
       "      <th>workclass</th>\n",
       "      <th>fnlwgt</th>\n",
       "      <th>education</th>\n",
       "      <th>education-num</th>\n",
       "      <th>marital-status</th>\n",
       "      <th>occupation</th>\n",
       "      <th>relationship</th>\n",
       "      <th>race</th>\n",
       "      <th>sex</th>\n",
       "      <th>capital-gain</th>\n",
       "      <th>capital-loss</th>\n",
       "      <th>hours-per-week</th>\n",
       "      <th>native-country</th>\n",
       "      <th>income</th>\n",
       "    </tr>\n",
       "  </thead>\n",
       "  <tbody>\n",
       "    <tr>\n",
       "      <th>0</th>\n",
       "      <td>39</td>\n",
       "      <td>State-gov</td>\n",
       "      <td>77516</td>\n",
       "      <td>Bachelors</td>\n",
       "      <td>13</td>\n",
       "      <td>Never-married</td>\n",
       "      <td>Adm-clerical</td>\n",
       "      <td>Not-in-family</td>\n",
       "      <td>White</td>\n",
       "      <td>Male</td>\n",
       "      <td>2174</td>\n",
       "      <td>0</td>\n",
       "      <td>40</td>\n",
       "      <td>United-States</td>\n",
       "      <td>&lt;=50K</td>\n",
       "    </tr>\n",
       "    <tr>\n",
       "      <th>1</th>\n",
       "      <td>50</td>\n",
       "      <td>Self-emp-not-inc</td>\n",
       "      <td>83311</td>\n",
       "      <td>Bachelors</td>\n",
       "      <td>13</td>\n",
       "      <td>Married-civ-spouse</td>\n",
       "      <td>Exec-managerial</td>\n",
       "      <td>Husband</td>\n",
       "      <td>White</td>\n",
       "      <td>Male</td>\n",
       "      <td>0</td>\n",
       "      <td>0</td>\n",
       "      <td>13</td>\n",
       "      <td>United-States</td>\n",
       "      <td>&lt;=50K</td>\n",
       "    </tr>\n",
       "    <tr>\n",
       "      <th>2</th>\n",
       "      <td>38</td>\n",
       "      <td>Private</td>\n",
       "      <td>215646</td>\n",
       "      <td>HS-grad</td>\n",
       "      <td>9</td>\n",
       "      <td>Divorced</td>\n",
       "      <td>Handlers-cleaners</td>\n",
       "      <td>Not-in-family</td>\n",
       "      <td>White</td>\n",
       "      <td>Male</td>\n",
       "      <td>0</td>\n",
       "      <td>0</td>\n",
       "      <td>40</td>\n",
       "      <td>United-States</td>\n",
       "      <td>&lt;=50K</td>\n",
       "    </tr>\n",
       "    <tr>\n",
       "      <th>3</th>\n",
       "      <td>53</td>\n",
       "      <td>Private</td>\n",
       "      <td>234721</td>\n",
       "      <td>11th</td>\n",
       "      <td>7</td>\n",
       "      <td>Married-civ-spouse</td>\n",
       "      <td>Handlers-cleaners</td>\n",
       "      <td>Husband</td>\n",
       "      <td>Black</td>\n",
       "      <td>Male</td>\n",
       "      <td>0</td>\n",
       "      <td>0</td>\n",
       "      <td>40</td>\n",
       "      <td>United-States</td>\n",
       "      <td>&lt;=50K</td>\n",
       "    </tr>\n",
       "    <tr>\n",
       "      <th>4</th>\n",
       "      <td>28</td>\n",
       "      <td>Private</td>\n",
       "      <td>338409</td>\n",
       "      <td>Bachelors</td>\n",
       "      <td>13</td>\n",
       "      <td>Married-civ-spouse</td>\n",
       "      <td>Prof-specialty</td>\n",
       "      <td>Wife</td>\n",
       "      <td>Black</td>\n",
       "      <td>Female</td>\n",
       "      <td>0</td>\n",
       "      <td>0</td>\n",
       "      <td>40</td>\n",
       "      <td>Cuba</td>\n",
       "      <td>&lt;=50K</td>\n",
       "    </tr>\n",
       "  </tbody>\n",
       "</table>\n",
       "</div>"
      ],
      "text/plain": [
       "   age         workclass  fnlwgt  education  education-num  \\\n",
       "0   39         State-gov   77516  Bachelors             13   \n",
       "1   50  Self-emp-not-inc   83311  Bachelors             13   \n",
       "2   38           Private  215646    HS-grad              9   \n",
       "3   53           Private  234721       11th              7   \n",
       "4   28           Private  338409  Bachelors             13   \n",
       "\n",
       "       marital-status         occupation   relationship   race     sex  \\\n",
       "0       Never-married       Adm-clerical  Not-in-family  White    Male   \n",
       "1  Married-civ-spouse    Exec-managerial        Husband  White    Male   \n",
       "2            Divorced  Handlers-cleaners  Not-in-family  White    Male   \n",
       "3  Married-civ-spouse  Handlers-cleaners        Husband  Black    Male   \n",
       "4  Married-civ-spouse     Prof-specialty           Wife  Black  Female   \n",
       "\n",
       "   capital-gain  capital-loss  hours-per-week native-country income  \n",
       "0          2174             0              40  United-States  <=50K  \n",
       "1             0             0              13  United-States  <=50K  \n",
       "2             0             0              40  United-States  <=50K  \n",
       "3             0             0              40  United-States  <=50K  \n",
       "4             0             0              40           Cuba  <=50K  "
      ]
     },
     "execution_count": 4,
     "metadata": {},
     "output_type": "execute_result"
    }
   ],
   "source": [
    "import pandas as pd\n",
    "\n",
    "# Load UCI Adult dataset\n",
    "url = 'https://archive.ics.uci.edu/ml/machine-learning-databases/adult/adult.data'\n",
    "\n",
    "columns = [\n",
    "    \"age\", \"workclass\", \"fnlwgt\", \"education\", \"education-num\",\n",
    "    \"marital-status\", \"occupation\", \"relationship\", \"race\", \"sex\",\n",
    "    \"capital-gain\", \"capital-loss\", \"hours-per-week\", \"native-country\", \"income\"\n",
    "]\n",
    "\n",
    "df = pd.read_csv(url, header=None, names=columns, na_values=\" ?\", skipinitialspace=True)\n",
    "\n",
    "# Drop missing values for simplicity (optional)\n",
    "df.dropna(inplace=True)\n",
    "\n",
    "print(\"Dataset loaded. Shape:\", df.shape)\n",
    "df.head()"
   ]
  },
  {
   "cell_type": "code",
   "execution_count": 5,
   "id": "f74fe12d-100c-4f9b-aa72-72f65f292d79",
   "metadata": {
    "execution": {
     "iopub.execute_input": "2025-07-07T06:29:34.029035Z",
     "iopub.status.busy": "2025-07-07T06:29:34.028566Z",
     "iopub.status.idle": "2025-07-07T06:59:02.731070Z",
     "shell.execute_reply": "2025-07-07T06:59:02.730377Z",
     "shell.execute_reply.started": "2025-07-07T06:29:34.029006Z"
    }
   },
   "outputs": [
    {
     "name": "stderr",
     "output_type": "stream",
     "text": [
      "Gen. (-0.53) | Discrim. (-0.01): 100%|██████████| 300/300 [28:59<00:00,  5.80s/it]"
     ]
    },
    {
     "name": "stdout",
     "output_type": "stream",
     "text": [
      "CTGAN model training completed.\n"
     ]
    },
    {
     "name": "stderr",
     "output_type": "stream",
     "text": [
      "\n"
     ]
    }
   ],
   "source": [
    "from ctgan import CTGAN\n",
    "\n",
    "# Define categorical columns\n",
    "categorical_columns = df.select_dtypes(include='object').columns.tolist()\n",
    "\n",
    "# Initialize CTGAN model\n",
    "model = CTGAN(epochs=300, verbose = True)  # Adjust epochs based on testing speed vs. quality tradeoff\n",
    "\n",
    "# Fit model with defined categorical columns\n",
    "model.fit(df, discrete_columns=categorical_columns)\n",
    "\n",
    "print(\"CTGAN model training completed.\")"
   ]
  },
  {
   "cell_type": "code",
   "execution_count": 6,
   "id": "991c630c-8b3b-43b4-85b5-d768357700e9",
   "metadata": {
    "execution": {
     "iopub.execute_input": "2025-07-07T07:16:18.373476Z",
     "iopub.status.busy": "2025-07-07T07:16:18.372641Z",
     "iopub.status.idle": "2025-07-07T07:16:19.204272Z",
     "shell.execute_reply": "2025-07-07T07:16:19.203269Z",
     "shell.execute_reply.started": "2025-07-07T07:16:18.373443Z"
    }
   },
   "outputs": [
    {
     "name": "stdout",
     "output_type": "stream",
     "text": [
      "✅ CTGAN baseline synthetic data saved successfully.\n"
     ]
    }
   ],
   "source": [
    "baseline_synthetic = model.sample(len(df))\n",
    "baseline_synthetic.to_csv('../data/processed/synthetic_adult_ctgan.csv', index=False)\n",
    "\n",
    "print(\"✅ CTGAN baseline synthetic data saved successfully.\")"
   ]
  },
  {
   "cell_type": "code",
   "execution_count": 7,
   "id": "ef7ea834-1d38-46f9-9b7c-20251440417c",
   "metadata": {
    "execution": {
     "iopub.execute_input": "2025-07-07T07:16:23.727060Z",
     "iopub.status.busy": "2025-07-07T07:16:23.726517Z",
     "iopub.status.idle": "2025-07-07T07:16:23.732129Z",
     "shell.execute_reply": "2025-07-07T07:16:23.731486Z",
     "shell.execute_reply.started": "2025-07-07T07:16:23.727030Z"
    }
   },
   "outputs": [],
   "source": [
    "# Generate schema text dynamically from dataframe\n",
    "schema = \"\\n\".join([f\"{col}: {df[col].dtype}\" for col in df.columns])\n",
    "\n",
    "prompt_json = f\"\"\"\n",
    "You are an expert data scientist.\n",
    "\n",
    "Analyze the following dataset schema to support realistic synthetic data generation.\n",
    "\n",
    "---\n",
    "\n",
    "**Instructions for Output:**\n",
    "\n",
    "1. **Important Features:** Identify the top features that most influence data realism and relationships. Choose features based on your analysis of this dataset schema that:\n",
    "\n",
    "   - Have strong correlations with other features\n",
    "   - Are important for downstream machine learning tasks\n",
    "   - Define key demographic or behavioral properties\n",
    "\n",
    "2. **Logical Constraints:** Identify as many real-life domain rules as you can come up with among the dataset features to maintain data realism. These should be derived based on your understanding of the schema, and these rules can be from any of the 3 categories below:\n",
    "\n",
    "   - **Range constraints:** e.g. age must be between realistic working age ranges\n",
    "   - **Conditional constraints:** e.g. if education level is PhD, age must be at least 25 realisticlly \n",
    "   - **Relationships:** e.g. hours-per-week correlates with income levels if everything else is same\n",
    "\n",
    "**Note:** The examples above are illustrative. Generate **original, realistic constraints relevant to this dataset** rather than repeating the examples.\n",
    "\n",
    "3. **Augmentation Suggestions:** Suggest engineered features that enhance data realism or GAN training, such as combining related fields or normalizing ratios.\n",
    "\n",
    "4. **Rare Category Handling:** Suggest strategies for handling skewed or rare categories in categorical features.\n",
    "\n",
    "---\n",
    "\n",
    "**Provide ONLY valid JSON output in the following structure:**\n",
    "\n",
    "{{\n",
    "  \"important_features\": [\"feature1\", \"feature2\", ...],\n",
    "  \"logical_constraints\": [\n",
    "    {{\n",
    "      \"rule\": \"description of the constraint\",\n",
    "      \"type\": \"range | conditional | relationship\",\n",
    "      \"features_involved\": [\"feature1\", \"feature2\", ...]\n",
    "    }}\n",
    "  ],\n",
    "  \"augmentation_suggestions\": [\"suggestion1\", \"suggestion2\", ...],\n",
    "  \"rare_category_handling\": [\"strategy1\", \"strategy2\", ...]\n",
    "}}\n",
    "\n",
    "---\n",
    "\n",
    "Dataset schema:\n",
    "{schema}\n",
    "\n",
    "Do not include any explanation, comments, or formatting outside this JSON structure.\n",
    "\"\"\""
   ]
  },
  {
   "cell_type": "code",
   "execution_count": 8,
   "id": "905a6de3-0949-4f9c-a308-65c7a14ca318",
   "metadata": {
    "execution": {
     "iopub.execute_input": "2025-07-07T07:16:25.933791Z",
     "iopub.status.busy": "2025-07-07T07:16:25.933236Z",
     "iopub.status.idle": "2025-07-07T07:16:25.938604Z",
     "shell.execute_reply": "2025-07-07T07:16:25.937766Z",
     "shell.execute_reply.started": "2025-07-07T07:16:25.933762Z"
    }
   },
   "outputs": [],
   "source": [
    "payload = {\n",
    "    \"inputs\": prompt_json,\n",
    "    \"parameters\": {\n",
    "        \"max_new_tokens\": 1024,\n",
    "        \"temperature\": 0.3\n",
    "    }\n",
    "}\n",
    "\n",
    "# Convert to JSON string\n",
    "payload_json = json.dumps(payload)"
   ]
  },
  {
   "cell_type": "code",
   "execution_count": 9,
   "id": "54114571-2267-4eb8-8c1d-177330999b86",
   "metadata": {
    "execution": {
     "iopub.execute_input": "2025-07-07T07:16:26.653627Z",
     "iopub.status.busy": "2025-07-07T07:16:26.652820Z",
     "iopub.status.idle": "2025-07-07T07:16:32.022742Z",
     "shell.execute_reply": "2025-07-07T07:16:32.021656Z",
     "shell.execute_reply.started": "2025-07-07T07:16:26.653594Z"
    }
   },
   "outputs": [
    {
     "name": "stdout",
     "output_type": "stream",
     "text": [
      "{'generated_text': '<|assistant|>\\n```json\\n{\\n  \"important_features\": [\"age\", \"capital-gain\", \"hours-per-week\", \"education-num\", \"capital-loss\"],\\n  \"logical_constraints\": [\\n    {\\n      \"rule\": \"If education level is PhD, age must be at least 25.\",\\n      \"type\": \"conditional\",\\n      \"features_involved\": [\"education\", \"age\"]\\n    },\\n    {\\n      \"rule\": \"Hours per week worked should be between 0 and 60 for realistic scenarios.\",\\n      \"type\": \"range\",\\n      \"features_involved\": [\"hours-per-week\"]\\n    },\\n    {\\n      \"rule\": \"Income should be higher for those with more education and higher work hours.\",\\n      \"type\": \"relationship\",\\n      \"features_involved\": [\"education\", \"hours-per-week\", \"income\"]\\n    }\\n  ],\\n  \"augmentation_suggestions\": [\\n    \"Combining \\'education\\' and \\'education-num\\' to create a more granular educational level feature.\",\\n    \"Normalizing \\'hours-per-week\\' by \\'capital-gain\\' to capture work-life balance impact on income.\"\\n  ],\\n  \"rare_category_handling\": [\\n    \"Impute rare categories in \\'race\\' and \\'native-country\\' with a combined \\'unknown\\' category.\",\\n    \"Use majority voting for \\'occupation\\' and \\'relationship\\' to fill in missing values.\"\\n  ]\\n}\\n```'}\n"
     ]
    }
   ],
   "source": [
    "response = sm_runtime.invoke_endpoint(\n",
    "    EndpointName='jumpstart-dft-hf-llm-falcon-3-3b-in-20250706-040539',  # replace with your endpoint name if different\n",
    "    ContentType='application/json',\n",
    "    Body=payload_json\n",
    ")\n",
    "\n",
    "# Parse response\n",
    "result = json.loads(response['Body'].read().decode('utf-8'))\n",
    "\n",
    "# Print output\n",
    "print(result)"
   ]
  },
  {
   "cell_type": "code",
   "execution_count": 10,
   "id": "40558d80-c7b6-4712-baf1-165f0e0a5ad4",
   "metadata": {
    "execution": {
     "iopub.execute_input": "2025-07-07T07:16:33.623468Z",
     "iopub.status.busy": "2025-07-07T07:16:33.623074Z",
     "iopub.status.idle": "2025-07-07T07:16:33.628021Z",
     "shell.execute_reply": "2025-07-07T07:16:33.627308Z",
     "shell.execute_reply.started": "2025-07-07T07:16:33.623443Z"
    }
   },
   "outputs": [
    {
     "name": "stdout",
     "output_type": "stream",
     "text": [
      "Feature insights saved to ../data/processed/falcon_feature_insights.txt\n"
     ]
    }
   ],
   "source": [
    "# Save LLM output to a text file for future reference\n",
    "with open('../data/processed/falcon_feature_insights.txt', 'w') as f:\n",
    "    f.write(result['generated_text'])\n",
    "\n",
    "print(\"Feature insights saved to ../data/processed/falcon_feature_insights.txt\")"
   ]
  },
  {
   "cell_type": "code",
   "execution_count": 11,
   "id": "eded43b5-60d0-4279-97fc-b285060f32eb",
   "metadata": {
    "execution": {
     "iopub.execute_input": "2025-07-07T07:16:35.299828Z",
     "iopub.status.busy": "2025-07-07T07:16:35.299483Z",
     "iopub.status.idle": "2025-07-07T07:16:35.304643Z",
     "shell.execute_reply": "2025-07-07T07:16:35.303794Z",
     "shell.execute_reply.started": "2025-07-07T07:16:35.299802Z"
    }
   },
   "outputs": [
    {
     "name": "stdout",
     "output_type": "stream",
     "text": [
      "<|assistant|>\n",
      "```json\n",
      "{\n",
      "  \"important_features\": [\"age\", \"capital-gain\", \"hours-per-week\", \"education-num\", \"capital-loss\"],\n",
      "  \"logical_constraints\": [\n",
      "    {\n",
      "      \"rule\": \"If education level is PhD, age must be at least 25.\",\n",
      "      \"type\": \"conditional\",\n",
      "      \"features_involved\": [\"education\", \"age\"]\n",
      "    },\n",
      "    {\n",
      "      \"rule\": \"Hours per week worked should be between 0 and 60 for realistic scenarios.\",\n",
      "      \"type\": \"range\",\n",
      "      \"features_involved\": [\"hours-per-week\"]\n",
      "    },\n",
      "    {\n",
      "      \"rule\": \"Income should be higher for those with more education and higher work hours.\",\n",
      "      \"type\": \"relationship\",\n",
      "      \"features_involved\": [\"education\", \"hours-per-week\", \"income\"]\n",
      "    }\n",
      "  ],\n",
      "  \"augmentation_suggestions\": [\n",
      "    \"Combining 'education' and 'education-num' to create a more granular educational level feature.\",\n",
      "    \"Normalizing 'hours-per-week' by 'capital-gain' to capture work-life balance impact on income.\"\n",
      "  ],\n",
      "  \"rare_category_handling\": [\n",
      "    \"Impute rare categories in 'race' and 'native-country' with a combined 'unknown' category.\",\n",
      "    \"Use majority voting for 'occupation' and 'relationship' to fill in missing values.\"\n",
      "  ]\n",
      "}\n",
      "```\n"
     ]
    }
   ],
   "source": [
    "with open('../data/processed/falcon_feature_insights.txt', 'r') as f:\n",
    "    print(f.read())"
   ]
  },
  {
   "cell_type": "code",
   "execution_count": 12,
   "id": "b3c1a936-1fbb-48c8-920a-6789c7456dd8",
   "metadata": {
    "execution": {
     "iopub.execute_input": "2025-07-07T07:16:40.790206Z",
     "iopub.status.busy": "2025-07-07T07:16:40.789869Z",
     "iopub.status.idle": "2025-07-07T07:16:40.795530Z",
     "shell.execute_reply": "2025-07-07T07:16:40.794819Z",
     "shell.execute_reply.started": "2025-07-07T07:16:40.790180Z"
    }
   },
   "outputs": [
    {
     "name": "stdout",
     "output_type": "stream",
     "text": [
      "Conditioning features extracted successfully: ['age', 'capital-gain', 'hours-per-week', 'education-num', 'capital-loss']\n"
     ]
    }
   ],
   "source": [
    "# Extract JSON part from the LLM output\n",
    "raw_output = result['generated_text']\n",
    "\n",
    "# Use regex to extract JSON between ```json and ```\n",
    "json_match = re.search(r\"```json(.*?)```\", raw_output, re.DOTALL)\n",
    "\n",
    "if json_match:\n",
    "    json_str = json_match.group(1).strip()\n",
    "else:\n",
    "    raise ValueError(\"No valid JSON found in LLM output.\")\n",
    "\n",
    "llm_output = json.loads(json_str)\n",
    "\n",
    "# Extract conditioning features\n",
    "conditioning_features = llm_output['important_features']\n",
    "\n",
    "print(\"Conditioning features extracted successfully:\", conditioning_features)"
   ]
  },
  {
   "cell_type": "code",
   "execution_count": 13,
   "id": "763fa411-3fb6-42be-83db-5efb7a36f096",
   "metadata": {
    "execution": {
     "iopub.execute_input": "2025-07-07T07:16:44.995937Z",
     "iopub.status.busy": "2025-07-07T07:16:44.995543Z",
     "iopub.status.idle": "2025-07-07T07:16:45.007182Z",
     "shell.execute_reply": "2025-07-07T07:16:44.999689Z",
     "shell.execute_reply.started": "2025-07-07T07:16:44.995904Z"
    }
   },
   "outputs": [],
   "source": [
    "def freedman_diaconis_bins(data):\n",
    "    data = data.dropna()\n",
    "    q75, q25 = np.percentile(data, [75 ,25])\n",
    "    iqr = q75 - q25\n",
    "    bin_width = 2 * iqr * len(data) ** (-1/3)\n",
    "    \n",
    "    if bin_width == 0:\n",
    "        return 1\n",
    "    \n",
    "    bins = int(np.ceil((data.max() - data.min()) / bin_width))\n",
    "    return max(1, bins)"
   ]
  },
  {
   "cell_type": "code",
   "execution_count": 14,
   "id": "a725acc5-d90a-4468-bb8a-0eaac7e63fc3",
   "metadata": {
    "execution": {
     "iopub.execute_input": "2025-07-07T07:16:50.654359Z",
     "iopub.status.busy": "2025-07-07T07:16:50.653533Z",
     "iopub.status.idle": "2025-07-07T07:18:06.046394Z",
     "shell.execute_reply": "2025-07-07T07:18:06.045401Z",
     "shell.execute_reply.started": "2025-07-07T07:16:50.654330Z"
    }
   },
   "outputs": [
    {
     "name": "stdout",
     "output_type": "stream",
     "text": [
      "Using 59 bins for feature 'age' based on Freedman-Diaconis rule.\n",
      "Generating synthetic data conditioned on age_binned = (38.0, 39.0]\n",
      "Warning: Only 243 samples generated for age_binned=(38.0, 39.0] after 10 attempts.\n",
      "Generating synthetic data conditioned on age_binned = (49.0, 50.0]\n"
     ]
    },
    {
     "name": "stderr",
     "output_type": "stream",
     "text": [
      "/tmp/ipykernel_24173/3518931779.py:37: SettingWithCopyWarning: \n",
      "A value is trying to be set on a copy of a slice from a DataFrame.\n",
      "Try using .loc[row_indexer,col_indexer] = value instead\n",
      "\n",
      "See the caveats in the documentation: https://pandas.pydata.org/pandas-docs/stable/user_guide/indexing.html#returning-a-view-versus-a-copy\n",
      "  samples_final['conditioned_on'] = f\"{conditioning_feature_to_use}={value}\"\n"
     ]
    },
    {
     "name": "stdout",
     "output_type": "stream",
     "text": [
      "Warning: Only 191 samples generated for age_binned=(49.0, 50.0] after 10 attempts.\n",
      "Generating synthetic data conditioned on age_binned = (37.0, 38.0]\n"
     ]
    },
    {
     "name": "stderr",
     "output_type": "stream",
     "text": [
      "/tmp/ipykernel_24173/3518931779.py:37: SettingWithCopyWarning: \n",
      "A value is trying to be set on a copy of a slice from a DataFrame.\n",
      "Try using .loc[row_indexer,col_indexer] = value instead\n",
      "\n",
      "See the caveats in the documentation: https://pandas.pydata.org/pandas-docs/stable/user_guide/indexing.html#returning-a-view-versus-a-copy\n",
      "  samples_final['conditioned_on'] = f\"{conditioning_feature_to_use}={value}\"\n"
     ]
    },
    {
     "name": "stdout",
     "output_type": "stream",
     "text": [
      "Warning: Only 211 samples generated for age_binned=(37.0, 38.0] after 10 attempts.\n",
      "Generating synthetic data conditioned on age_binned = (52.0, 53.0]\n"
     ]
    },
    {
     "name": "stderr",
     "output_type": "stream",
     "text": [
      "/tmp/ipykernel_24173/3518931779.py:37: SettingWithCopyWarning: \n",
      "A value is trying to be set on a copy of a slice from a DataFrame.\n",
      "Try using .loc[row_indexer,col_indexer] = value instead\n",
      "\n",
      "See the caveats in the documentation: https://pandas.pydata.org/pandas-docs/stable/user_guide/indexing.html#returning-a-view-versus-a-copy\n",
      "  samples_final['conditioned_on'] = f\"{conditioning_feature_to_use}={value}\"\n"
     ]
    },
    {
     "name": "stdout",
     "output_type": "stream",
     "text": [
      "Warning: Only 110 samples generated for age_binned=(52.0, 53.0] after 10 attempts.\n",
      "Generating synthetic data conditioned on age_binned = (27.0, 28.0]\n"
     ]
    },
    {
     "name": "stderr",
     "output_type": "stream",
     "text": [
      "/tmp/ipykernel_24173/3518931779.py:37: SettingWithCopyWarning: \n",
      "A value is trying to be set on a copy of a slice from a DataFrame.\n",
      "Try using .loc[row_indexer,col_indexer] = value instead\n",
      "\n",
      "See the caveats in the documentation: https://pandas.pydata.org/pandas-docs/stable/user_guide/indexing.html#returning-a-view-versus-a-copy\n",
      "  samples_final['conditioned_on'] = f\"{conditioning_feature_to_use}={value}\"\n"
     ]
    },
    {
     "name": "stdout",
     "output_type": "stream",
     "text": [
      "Warning: Only 260 samples generated for age_binned=(27.0, 28.0] after 10 attempts.\n",
      "Generating synthetic data conditioned on age_binned = (36.0, 37.0]\n"
     ]
    },
    {
     "name": "stderr",
     "output_type": "stream",
     "text": [
      "/tmp/ipykernel_24173/3518931779.py:37: SettingWithCopyWarning: \n",
      "A value is trying to be set on a copy of a slice from a DataFrame.\n",
      "Try using .loc[row_indexer,col_indexer] = value instead\n",
      "\n",
      "See the caveats in the documentation: https://pandas.pydata.org/pandas-docs/stable/user_guide/indexing.html#returning-a-view-versus-a-copy\n",
      "  samples_final['conditioned_on'] = f\"{conditioning_feature_to_use}={value}\"\n"
     ]
    },
    {
     "name": "stdout",
     "output_type": "stream",
     "text": [
      "Warning: Only 182 samples generated for age_binned=(36.0, 37.0] after 10 attempts.\n",
      "Generating synthetic data conditioned on age_binned = (48.0, 49.0]\n"
     ]
    },
    {
     "name": "stderr",
     "output_type": "stream",
     "text": [
      "/tmp/ipykernel_24173/3518931779.py:37: SettingWithCopyWarning: \n",
      "A value is trying to be set on a copy of a slice from a DataFrame.\n",
      "Try using .loc[row_indexer,col_indexer] = value instead\n",
      "\n",
      "See the caveats in the documentation: https://pandas.pydata.org/pandas-docs/stable/user_guide/indexing.html#returning-a-view-versus-a-copy\n",
      "  samples_final['conditioned_on'] = f\"{conditioning_feature_to_use}={value}\"\n"
     ]
    },
    {
     "name": "stdout",
     "output_type": "stream",
     "text": [
      "Warning: Only 217 samples generated for age_binned=(48.0, 49.0] after 10 attempts.\n",
      "Generating synthetic data conditioned on age_binned = (51.0, 52.0]\n"
     ]
    },
    {
     "name": "stderr",
     "output_type": "stream",
     "text": [
      "/tmp/ipykernel_24173/3518931779.py:37: SettingWithCopyWarning: \n",
      "A value is trying to be set on a copy of a slice from a DataFrame.\n",
      "Try using .loc[row_indexer,col_indexer] = value instead\n",
      "\n",
      "See the caveats in the documentation: https://pandas.pydata.org/pandas-docs/stable/user_guide/indexing.html#returning-a-view-versus-a-copy\n",
      "  samples_final['conditioned_on'] = f\"{conditioning_feature_to_use}={value}\"\n"
     ]
    },
    {
     "name": "stdout",
     "output_type": "stream",
     "text": [
      "Warning: Only 119 samples generated for age_binned=(51.0, 52.0] after 10 attempts.\n",
      "Generating synthetic data conditioned on age_binned = (30.0, 31.0]\n"
     ]
    },
    {
     "name": "stderr",
     "output_type": "stream",
     "text": [
      "/tmp/ipykernel_24173/3518931779.py:37: SettingWithCopyWarning: \n",
      "A value is trying to be set on a copy of a slice from a DataFrame.\n",
      "Try using .loc[row_indexer,col_indexer] = value instead\n",
      "\n",
      "See the caveats in the documentation: https://pandas.pydata.org/pandas-docs/stable/user_guide/indexing.html#returning-a-view-versus-a-copy\n",
      "  samples_final['conditioned_on'] = f\"{conditioning_feature_to_use}={value}\"\n"
     ]
    },
    {
     "name": "stdout",
     "output_type": "stream",
     "text": [
      "Warning: Only 136 samples generated for age_binned=(30.0, 31.0] after 10 attempts.\n",
      "Generating synthetic data conditioned on age_binned = (41.0, 42.0]\n"
     ]
    },
    {
     "name": "stderr",
     "output_type": "stream",
     "text": [
      "/tmp/ipykernel_24173/3518931779.py:37: SettingWithCopyWarning: \n",
      "A value is trying to be set on a copy of a slice from a DataFrame.\n",
      "Try using .loc[row_indexer,col_indexer] = value instead\n",
      "\n",
      "See the caveats in the documentation: https://pandas.pydata.org/pandas-docs/stable/user_guide/indexing.html#returning-a-view-versus-a-copy\n",
      "  samples_final['conditioned_on'] = f\"{conditioning_feature_to_use}={value}\"\n"
     ]
    },
    {
     "name": "stdout",
     "output_type": "stream",
     "text": [
      "Warning: Only 364 samples generated for age_binned=(41.0, 42.0] after 10 attempts.\n",
      "Generating synthetic data conditioned on age_binned = (29.0, 30.0]\n"
     ]
    },
    {
     "name": "stderr",
     "output_type": "stream",
     "text": [
      "/tmp/ipykernel_24173/3518931779.py:37: SettingWithCopyWarning: \n",
      "A value is trying to be set on a copy of a slice from a DataFrame.\n",
      "Try using .loc[row_indexer,col_indexer] = value instead\n",
      "\n",
      "See the caveats in the documentation: https://pandas.pydata.org/pandas-docs/stable/user_guide/indexing.html#returning-a-view-versus-a-copy\n",
      "  samples_final['conditioned_on'] = f\"{conditioning_feature_to_use}={value}\"\n"
     ]
    },
    {
     "name": "stdout",
     "output_type": "stream",
     "text": [
      "Warning: Only 165 samples generated for age_binned=(29.0, 30.0] after 10 attempts.\n",
      "Generating synthetic data conditioned on age_binned = (22.0, 23.0]\n"
     ]
    },
    {
     "name": "stderr",
     "output_type": "stream",
     "text": [
      "/tmp/ipykernel_24173/3518931779.py:37: SettingWithCopyWarning: \n",
      "A value is trying to be set on a copy of a slice from a DataFrame.\n",
      "Try using .loc[row_indexer,col_indexer] = value instead\n",
      "\n",
      "See the caveats in the documentation: https://pandas.pydata.org/pandas-docs/stable/user_guide/indexing.html#returning-a-view-versus-a-copy\n",
      "  samples_final['conditioned_on'] = f\"{conditioning_feature_to_use}={value}\"\n"
     ]
    },
    {
     "name": "stdout",
     "output_type": "stream",
     "text": [
      "Warning: Only 296 samples generated for age_binned=(22.0, 23.0] after 10 attempts.\n",
      "Generating synthetic data conditioned on age_binned = (31.0, 32.0]\n"
     ]
    },
    {
     "name": "stderr",
     "output_type": "stream",
     "text": [
      "/tmp/ipykernel_24173/3518931779.py:37: SettingWithCopyWarning: \n",
      "A value is trying to be set on a copy of a slice from a DataFrame.\n",
      "Try using .loc[row_indexer,col_indexer] = value instead\n",
      "\n",
      "See the caveats in the documentation: https://pandas.pydata.org/pandas-docs/stable/user_guide/indexing.html#returning-a-view-versus-a-copy\n",
      "  samples_final['conditioned_on'] = f\"{conditioning_feature_to_use}={value}\"\n"
     ]
    },
    {
     "name": "stdout",
     "output_type": "stream",
     "text": [
      "Warning: Only 114 samples generated for age_binned=(31.0, 32.0] after 10 attempts.\n",
      "Generating synthetic data conditioned on age_binned = (39.0, 40.0]\n"
     ]
    },
    {
     "name": "stderr",
     "output_type": "stream",
     "text": [
      "/tmp/ipykernel_24173/3518931779.py:37: SettingWithCopyWarning: \n",
      "A value is trying to be set on a copy of a slice from a DataFrame.\n",
      "Try using .loc[row_indexer,col_indexer] = value instead\n",
      "\n",
      "See the caveats in the documentation: https://pandas.pydata.org/pandas-docs/stable/user_guide/indexing.html#returning-a-view-versus-a-copy\n",
      "  samples_final['conditioned_on'] = f\"{conditioning_feature_to_use}={value}\"\n"
     ]
    },
    {
     "name": "stdout",
     "output_type": "stream",
     "text": [
      "Warning: Only 324 samples generated for age_binned=(39.0, 40.0] after 10 attempts.\n",
      "Generating synthetic data conditioned on age_binned = (33.0, 34.0]\n"
     ]
    },
    {
     "name": "stderr",
     "output_type": "stream",
     "text": [
      "/tmp/ipykernel_24173/3518931779.py:37: SettingWithCopyWarning: \n",
      "A value is trying to be set on a copy of a slice from a DataFrame.\n",
      "Try using .loc[row_indexer,col_indexer] = value instead\n",
      "\n",
      "See the caveats in the documentation: https://pandas.pydata.org/pandas-docs/stable/user_guide/indexing.html#returning-a-view-versus-a-copy\n",
      "  samples_final['conditioned_on'] = f\"{conditioning_feature_to_use}={value}\"\n"
     ]
    },
    {
     "name": "stdout",
     "output_type": "stream",
     "text": [
      "Warning: Only 127 samples generated for age_binned=(33.0, 34.0] after 10 attempts.\n",
      "Generating synthetic data conditioned on age_binned = (24.0, 25.0]\n"
     ]
    },
    {
     "name": "stderr",
     "output_type": "stream",
     "text": [
      "/tmp/ipykernel_24173/3518931779.py:37: SettingWithCopyWarning: \n",
      "A value is trying to be set on a copy of a slice from a DataFrame.\n",
      "Try using .loc[row_indexer,col_indexer] = value instead\n",
      "\n",
      "See the caveats in the documentation: https://pandas.pydata.org/pandas-docs/stable/user_guide/indexing.html#returning-a-view-versus-a-copy\n",
      "  samples_final['conditioned_on'] = f\"{conditioning_feature_to_use}={value}\"\n"
     ]
    },
    {
     "name": "stdout",
     "output_type": "stream",
     "text": [
      "Warning: Only 313 samples generated for age_binned=(24.0, 25.0] after 10 attempts.\n",
      "Generating synthetic data conditioned on age_binned = (42.0, 43.0]\n"
     ]
    },
    {
     "name": "stderr",
     "output_type": "stream",
     "text": [
      "/tmp/ipykernel_24173/3518931779.py:37: SettingWithCopyWarning: \n",
      "A value is trying to be set on a copy of a slice from a DataFrame.\n",
      "Try using .loc[row_indexer,col_indexer] = value instead\n",
      "\n",
      "See the caveats in the documentation: https://pandas.pydata.org/pandas-docs/stable/user_guide/indexing.html#returning-a-view-versus-a-copy\n",
      "  samples_final['conditioned_on'] = f\"{conditioning_feature_to_use}={value}\"\n"
     ]
    },
    {
     "name": "stdout",
     "output_type": "stream",
     "text": [
      "Warning: Only 428 samples generated for age_binned=(42.0, 43.0] after 10 attempts.\n",
      "Generating synthetic data conditioned on age_binned = (53.0, 55.0]\n"
     ]
    },
    {
     "name": "stderr",
     "output_type": "stream",
     "text": [
      "/tmp/ipykernel_24173/3518931779.py:37: SettingWithCopyWarning: \n",
      "A value is trying to be set on a copy of a slice from a DataFrame.\n",
      "Try using .loc[row_indexer,col_indexer] = value instead\n",
      "\n",
      "See the caveats in the documentation: https://pandas.pydata.org/pandas-docs/stable/user_guide/indexing.html#returning-a-view-versus-a-copy\n",
      "  samples_final['conditioned_on'] = f\"{conditioning_feature_to_use}={value}\"\n"
     ]
    },
    {
     "name": "stdout",
     "output_type": "stream",
     "text": [
      "Warning: Only 205 samples generated for age_binned=(53.0, 55.0] after 10 attempts.\n",
      "Generating synthetic data conditioned on age_binned = (34.0, 35.0]\n"
     ]
    },
    {
     "name": "stderr",
     "output_type": "stream",
     "text": [
      "/tmp/ipykernel_24173/3518931779.py:37: SettingWithCopyWarning: \n",
      "A value is trying to be set on a copy of a slice from a DataFrame.\n",
      "Try using .loc[row_indexer,col_indexer] = value instead\n",
      "\n",
      "See the caveats in the documentation: https://pandas.pydata.org/pandas-docs/stable/user_guide/indexing.html#returning-a-view-versus-a-copy\n",
      "  samples_final['conditioned_on'] = f\"{conditioning_feature_to_use}={value}\"\n"
     ]
    },
    {
     "name": "stdout",
     "output_type": "stream",
     "text": [
      "Warning: Only 105 samples generated for age_binned=(34.0, 35.0] after 10 attempts.\n",
      "Generating synthetic data conditioned on age_binned = (58.0, 59.0]\n"
     ]
    },
    {
     "name": "stderr",
     "output_type": "stream",
     "text": [
      "/tmp/ipykernel_24173/3518931779.py:37: SettingWithCopyWarning: \n",
      "A value is trying to be set on a copy of a slice from a DataFrame.\n",
      "Try using .loc[row_indexer,col_indexer] = value instead\n",
      "\n",
      "See the caveats in the documentation: https://pandas.pydata.org/pandas-docs/stable/user_guide/indexing.html#returning-a-view-versus-a-copy\n",
      "  samples_final['conditioned_on'] = f\"{conditioning_feature_to_use}={value}\"\n"
     ]
    },
    {
     "name": "stdout",
     "output_type": "stream",
     "text": [
      "Warning: Only 86 samples generated for age_binned=(58.0, 59.0] after 10 attempts.\n",
      "Generating synthetic data conditioned on age_binned = (55.0, 56.0]\n"
     ]
    },
    {
     "name": "stderr",
     "output_type": "stream",
     "text": [
      "/tmp/ipykernel_24173/3518931779.py:37: SettingWithCopyWarning: \n",
      "A value is trying to be set on a copy of a slice from a DataFrame.\n",
      "Try using .loc[row_indexer,col_indexer] = value instead\n",
      "\n",
      "See the caveats in the documentation: https://pandas.pydata.org/pandas-docs/stable/user_guide/indexing.html#returning-a-view-versus-a-copy\n",
      "  samples_final['conditioned_on'] = f\"{conditioning_feature_to_use}={value}\"\n"
     ]
    },
    {
     "name": "stdout",
     "output_type": "stream",
     "text": [
      "Warning: Only 91 samples generated for age_binned=(55.0, 56.0] after 10 attempts.\n",
      "Generating synthetic data conditioned on age_binned = (18.0, 19.0]\n"
     ]
    },
    {
     "name": "stderr",
     "output_type": "stream",
     "text": [
      "/tmp/ipykernel_24173/3518931779.py:37: SettingWithCopyWarning: \n",
      "A value is trying to be set on a copy of a slice from a DataFrame.\n",
      "Try using .loc[row_indexer,col_indexer] = value instead\n",
      "\n",
      "See the caveats in the documentation: https://pandas.pydata.org/pandas-docs/stable/user_guide/indexing.html#returning-a-view-versus-a-copy\n",
      "  samples_final['conditioned_on'] = f\"{conditioning_feature_to_use}={value}\"\n"
     ]
    },
    {
     "name": "stdout",
     "output_type": "stream",
     "text": [
      "Warning: Only 187 samples generated for age_binned=(18.0, 19.0] after 10 attempts.\n",
      "Generating synthetic data conditioned on age_binned = (19.0, 20.0]\n"
     ]
    },
    {
     "name": "stderr",
     "output_type": "stream",
     "text": [
      "/tmp/ipykernel_24173/3518931779.py:37: SettingWithCopyWarning: \n",
      "A value is trying to be set on a copy of a slice from a DataFrame.\n",
      "Try using .loc[row_indexer,col_indexer] = value instead\n",
      "\n",
      "See the caveats in the documentation: https://pandas.pydata.org/pandas-docs/stable/user_guide/indexing.html#returning-a-view-versus-a-copy\n",
      "  samples_final['conditioned_on'] = f\"{conditioning_feature_to_use}={value}\"\n"
     ]
    },
    {
     "name": "stdout",
     "output_type": "stream",
     "text": [
      "Warning: Only 204 samples generated for age_binned=(19.0, 20.0] after 10 attempts.\n",
      "Generating synthetic data conditioned on age_binned = (44.0, 45.0]\n"
     ]
    },
    {
     "name": "stderr",
     "output_type": "stream",
     "text": [
      "/tmp/ipykernel_24173/3518931779.py:37: SettingWithCopyWarning: \n",
      "A value is trying to be set on a copy of a slice from a DataFrame.\n",
      "Try using .loc[row_indexer,col_indexer] = value instead\n",
      "\n",
      "See the caveats in the documentation: https://pandas.pydata.org/pandas-docs/stable/user_guide/indexing.html#returning-a-view-versus-a-copy\n",
      "  samples_final['conditioned_on'] = f\"{conditioning_feature_to_use}={value}\"\n"
     ]
    },
    {
     "name": "stdout",
     "output_type": "stream",
     "text": [
      "Warning: Only 389 samples generated for age_binned=(44.0, 45.0] after 10 attempts.\n",
      "Generating synthetic data conditioned on age_binned = (21.0, 22.0]\n"
     ]
    },
    {
     "name": "stderr",
     "output_type": "stream",
     "text": [
      "/tmp/ipykernel_24173/3518931779.py:37: SettingWithCopyWarning: \n",
      "A value is trying to be set on a copy of a slice from a DataFrame.\n",
      "Try using .loc[row_indexer,col_indexer] = value instead\n",
      "\n",
      "See the caveats in the documentation: https://pandas.pydata.org/pandas-docs/stable/user_guide/indexing.html#returning-a-view-versus-a-copy\n",
      "  samples_final['conditioned_on'] = f\"{conditioning_feature_to_use}={value}\"\n"
     ]
    },
    {
     "name": "stdout",
     "output_type": "stream",
     "text": [
      "Warning: Only 248 samples generated for age_binned=(21.0, 22.0] after 10 attempts.\n",
      "Generating synthetic data conditioned on age_binned = (47.0, 48.0]\n"
     ]
    },
    {
     "name": "stderr",
     "output_type": "stream",
     "text": [
      "/tmp/ipykernel_24173/3518931779.py:37: SettingWithCopyWarning: \n",
      "A value is trying to be set on a copy of a slice from a DataFrame.\n",
      "Try using .loc[row_indexer,col_indexer] = value instead\n",
      "\n",
      "See the caveats in the documentation: https://pandas.pydata.org/pandas-docs/stable/user_guide/indexing.html#returning-a-view-versus-a-copy\n",
      "  samples_final['conditioned_on'] = f\"{conditioning_feature_to_use}={value}\"\n"
     ]
    },
    {
     "name": "stdout",
     "output_type": "stream",
     "text": [
      "Warning: Only 245 samples generated for age_binned=(47.0, 48.0] after 10 attempts.\n",
      "Generating synthetic data conditioned on age_binned = (20.0, 21.0]\n"
     ]
    },
    {
     "name": "stderr",
     "output_type": "stream",
     "text": [
      "/tmp/ipykernel_24173/3518931779.py:37: SettingWithCopyWarning: \n",
      "A value is trying to be set on a copy of a slice from a DataFrame.\n",
      "Try using .loc[row_indexer,col_indexer] = value instead\n",
      "\n",
      "See the caveats in the documentation: https://pandas.pydata.org/pandas-docs/stable/user_guide/indexing.html#returning-a-view-versus-a-copy\n",
      "  samples_final['conditioned_on'] = f\"{conditioning_feature_to_use}={value}\"\n"
     ]
    },
    {
     "name": "stdout",
     "output_type": "stream",
     "text": [
      "Warning: Only 201 samples generated for age_binned=(20.0, 21.0] after 10 attempts.\n",
      "Generating synthetic data conditioned on age_binned = (23.0, 24.0]\n"
     ]
    },
    {
     "name": "stderr",
     "output_type": "stream",
     "text": [
      "/tmp/ipykernel_24173/3518931779.py:37: SettingWithCopyWarning: \n",
      "A value is trying to be set on a copy of a slice from a DataFrame.\n",
      "Try using .loc[row_indexer,col_indexer] = value instead\n",
      "\n",
      "See the caveats in the documentation: https://pandas.pydata.org/pandas-docs/stable/user_guide/indexing.html#returning-a-view-versus-a-copy\n",
      "  samples_final['conditioned_on'] = f\"{conditioning_feature_to_use}={value}\"\n"
     ]
    },
    {
     "name": "stdout",
     "output_type": "stream",
     "text": [
      "Warning: Only 300 samples generated for age_binned=(23.0, 24.0] after 10 attempts.\n",
      "Generating synthetic data conditioned on age_binned = (56.0, 58.0]\n"
     ]
    },
    {
     "name": "stderr",
     "output_type": "stream",
     "text": [
      "/tmp/ipykernel_24173/3518931779.py:37: SettingWithCopyWarning: \n",
      "A value is trying to be set on a copy of a slice from a DataFrame.\n",
      "Try using .loc[row_indexer,col_indexer] = value instead\n",
      "\n",
      "See the caveats in the documentation: https://pandas.pydata.org/pandas-docs/stable/user_guide/indexing.html#returning-a-view-versus-a-copy\n",
      "  samples_final['conditioned_on'] = f\"{conditioning_feature_to_use}={value}\"\n"
     ]
    },
    {
     "name": "stdout",
     "output_type": "stream",
     "text": [
      "Warning: Only 202 samples generated for age_binned=(56.0, 58.0] after 10 attempts.\n",
      "Generating synthetic data conditioned on age_binned = (43.0, 44.0]\n"
     ]
    },
    {
     "name": "stderr",
     "output_type": "stream",
     "text": [
      "/tmp/ipykernel_24173/3518931779.py:37: SettingWithCopyWarning: \n",
      "A value is trying to be set on a copy of a slice from a DataFrame.\n",
      "Try using .loc[row_indexer,col_indexer] = value instead\n",
      "\n",
      "See the caveats in the documentation: https://pandas.pydata.org/pandas-docs/stable/user_guide/indexing.html#returning-a-view-versus-a-copy\n",
      "  samples_final['conditioned_on'] = f\"{conditioning_feature_to_use}={value}\"\n"
     ]
    },
    {
     "name": "stdout",
     "output_type": "stream",
     "text": [
      "Warning: Only 372 samples generated for age_binned=(43.0, 44.0] after 10 attempts.\n",
      "Generating synthetic data conditioned on age_binned = (40.0, 41.0]\n"
     ]
    },
    {
     "name": "stderr",
     "output_type": "stream",
     "text": [
      "/tmp/ipykernel_24173/3518931779.py:37: SettingWithCopyWarning: \n",
      "A value is trying to be set on a copy of a slice from a DataFrame.\n",
      "Try using .loc[row_indexer,col_indexer] = value instead\n",
      "\n",
      "See the caveats in the documentation: https://pandas.pydata.org/pandas-docs/stable/user_guide/indexing.html#returning-a-view-versus-a-copy\n",
      "  samples_final['conditioned_on'] = f\"{conditioning_feature_to_use}={value}\"\n"
     ]
    },
    {
     "name": "stdout",
     "output_type": "stream",
     "text": [
      "Warning: Only 386 samples generated for age_binned=(40.0, 41.0] after 10 attempts.\n",
      "Generating synthetic data conditioned on age_binned = (28.0, 29.0]\n"
     ]
    },
    {
     "name": "stderr",
     "output_type": "stream",
     "text": [
      "/tmp/ipykernel_24173/3518931779.py:37: SettingWithCopyWarning: \n",
      "A value is trying to be set on a copy of a slice from a DataFrame.\n",
      "Try using .loc[row_indexer,col_indexer] = value instead\n",
      "\n",
      "See the caveats in the documentation: https://pandas.pydata.org/pandas-docs/stable/user_guide/indexing.html#returning-a-view-versus-a-copy\n",
      "  samples_final['conditioned_on'] = f\"{conditioning_feature_to_use}={value}\"\n"
     ]
    },
    {
     "name": "stdout",
     "output_type": "stream",
     "text": [
      "Warning: Only 190 samples generated for age_binned=(28.0, 29.0] after 10 attempts.\n",
      "Generating synthetic data conditioned on age_binned = (16.999, 18.0]\n"
     ]
    },
    {
     "name": "stderr",
     "output_type": "stream",
     "text": [
      "/tmp/ipykernel_24173/3518931779.py:37: SettingWithCopyWarning: \n",
      "A value is trying to be set on a copy of a slice from a DataFrame.\n",
      "Try using .loc[row_indexer,col_indexer] = value instead\n",
      "\n",
      "See the caveats in the documentation: https://pandas.pydata.org/pandas-docs/stable/user_guide/indexing.html#returning-a-view-versus-a-copy\n",
      "  samples_final['conditioned_on'] = f\"{conditioning_feature_to_use}={value}\"\n"
     ]
    },
    {
     "name": "stdout",
     "output_type": "stream",
     "text": [
      "Warning: Only 283 samples generated for age_binned=(16.999, 18.0] after 10 attempts.\n",
      "Generating synthetic data conditioned on age_binned = (46.0, 47.0]\n"
     ]
    },
    {
     "name": "stderr",
     "output_type": "stream",
     "text": [
      "/tmp/ipykernel_24173/3518931779.py:37: SettingWithCopyWarning: \n",
      "A value is trying to be set on a copy of a slice from a DataFrame.\n",
      "Try using .loc[row_indexer,col_indexer] = value instead\n",
      "\n",
      "See the caveats in the documentation: https://pandas.pydata.org/pandas-docs/stable/user_guide/indexing.html#returning-a-view-versus-a-copy\n",
      "  samples_final['conditioned_on'] = f\"{conditioning_feature_to_use}={value}\"\n"
     ]
    },
    {
     "name": "stdout",
     "output_type": "stream",
     "text": [
      "Warning: Only 300 samples generated for age_binned=(46.0, 47.0] after 10 attempts.\n",
      "Generating synthetic data conditioned on age_binned = (45.0, 46.0]\n"
     ]
    },
    {
     "name": "stderr",
     "output_type": "stream",
     "text": [
      "/tmp/ipykernel_24173/3518931779.py:37: SettingWithCopyWarning: \n",
      "A value is trying to be set on a copy of a slice from a DataFrame.\n",
      "Try using .loc[row_indexer,col_indexer] = value instead\n",
      "\n",
      "See the caveats in the documentation: https://pandas.pydata.org/pandas-docs/stable/user_guide/indexing.html#returning-a-view-versus-a-copy\n",
      "  samples_final['conditioned_on'] = f\"{conditioning_feature_to_use}={value}\"\n"
     ]
    },
    {
     "name": "stdout",
     "output_type": "stream",
     "text": [
      "Warning: Only 330 samples generated for age_binned=(45.0, 46.0] after 10 attempts.\n",
      "Generating synthetic data conditioned on age_binned = (35.0, 36.0]\n"
     ]
    },
    {
     "name": "stderr",
     "output_type": "stream",
     "text": [
      "/tmp/ipykernel_24173/3518931779.py:37: SettingWithCopyWarning: \n",
      "A value is trying to be set on a copy of a slice from a DataFrame.\n",
      "Try using .loc[row_indexer,col_indexer] = value instead\n",
      "\n",
      "See the caveats in the documentation: https://pandas.pydata.org/pandas-docs/stable/user_guide/indexing.html#returning-a-view-versus-a-copy\n",
      "  samples_final['conditioned_on'] = f\"{conditioning_feature_to_use}={value}\"\n"
     ]
    },
    {
     "name": "stdout",
     "output_type": "stream",
     "text": [
      "Warning: Only 140 samples generated for age_binned=(35.0, 36.0] after 10 attempts.\n",
      "Generating synthetic data conditioned on age_binned = (70.0, 90.0]\n"
     ]
    },
    {
     "name": "stderr",
     "output_type": "stream",
     "text": [
      "/tmp/ipykernel_24173/3518931779.py:37: SettingWithCopyWarning: \n",
      "A value is trying to be set on a copy of a slice from a DataFrame.\n",
      "Try using .loc[row_indexer,col_indexer] = value instead\n",
      "\n",
      "See the caveats in the documentation: https://pandas.pydata.org/pandas-docs/stable/user_guide/indexing.html#returning-a-view-versus-a-copy\n",
      "  samples_final['conditioned_on'] = f\"{conditioning_feature_to_use}={value}\"\n"
     ]
    },
    {
     "name": "stdout",
     "output_type": "stream",
     "text": [
      "Warning: Only 89 samples generated for age_binned=(70.0, 90.0] after 10 attempts.\n",
      "Generating synthetic data conditioned on age_binned = (26.0, 27.0]\n"
     ]
    },
    {
     "name": "stderr",
     "output_type": "stream",
     "text": [
      "/tmp/ipykernel_24173/3518931779.py:37: SettingWithCopyWarning: \n",
      "A value is trying to be set on a copy of a slice from a DataFrame.\n",
      "Try using .loc[row_indexer,col_indexer] = value instead\n",
      "\n",
      "See the caveats in the documentation: https://pandas.pydata.org/pandas-docs/stable/user_guide/indexing.html#returning-a-view-versus-a-copy\n",
      "  samples_final['conditioned_on'] = f\"{conditioning_feature_to_use}={value}\"\n"
     ]
    },
    {
     "name": "stdout",
     "output_type": "stream",
     "text": [
      "Warning: Only 283 samples generated for age_binned=(26.0, 27.0] after 10 attempts.\n",
      "Generating synthetic data conditioned on age_binned = (66.0, 70.0]\n"
     ]
    },
    {
     "name": "stderr",
     "output_type": "stream",
     "text": [
      "/tmp/ipykernel_24173/3518931779.py:37: SettingWithCopyWarning: \n",
      "A value is trying to be set on a copy of a slice from a DataFrame.\n",
      "Try using .loc[row_indexer,col_indexer] = value instead\n",
      "\n",
      "See the caveats in the documentation: https://pandas.pydata.org/pandas-docs/stable/user_guide/indexing.html#returning-a-view-versus-a-copy\n",
      "  samples_final['conditioned_on'] = f\"{conditioning_feature_to_use}={value}\"\n"
     ]
    },
    {
     "name": "stdout",
     "output_type": "stream",
     "text": [
      "Warning: Only 100 samples generated for age_binned=(66.0, 70.0] after 10 attempts.\n",
      "Generating synthetic data conditioned on age_binned = (32.0, 33.0]\n"
     ]
    },
    {
     "name": "stderr",
     "output_type": "stream",
     "text": [
      "/tmp/ipykernel_24173/3518931779.py:37: SettingWithCopyWarning: \n",
      "A value is trying to be set on a copy of a slice from a DataFrame.\n",
      "Try using .loc[row_indexer,col_indexer] = value instead\n",
      "\n",
      "See the caveats in the documentation: https://pandas.pydata.org/pandas-docs/stable/user_guide/indexing.html#returning-a-view-versus-a-copy\n",
      "  samples_final['conditioned_on'] = f\"{conditioning_feature_to_use}={value}\"\n"
     ]
    },
    {
     "name": "stdout",
     "output_type": "stream",
     "text": [
      "Warning: Only 103 samples generated for age_binned=(32.0, 33.0] after 10 attempts.\n",
      "Generating synthetic data conditioned on age_binned = (59.0, 61.0]\n"
     ]
    },
    {
     "name": "stderr",
     "output_type": "stream",
     "text": [
      "/tmp/ipykernel_24173/3518931779.py:37: SettingWithCopyWarning: \n",
      "A value is trying to be set on a copy of a slice from a DataFrame.\n",
      "Try using .loc[row_indexer,col_indexer] = value instead\n",
      "\n",
      "See the caveats in the documentation: https://pandas.pydata.org/pandas-docs/stable/user_guide/indexing.html#returning-a-view-versus-a-copy\n",
      "  samples_final['conditioned_on'] = f\"{conditioning_feature_to_use}={value}\"\n"
     ]
    },
    {
     "name": "stdout",
     "output_type": "stream",
     "text": [
      "Warning: Only 169 samples generated for age_binned=(59.0, 61.0] after 10 attempts.\n",
      "Generating synthetic data conditioned on age_binned = (63.0, 66.0]\n"
     ]
    },
    {
     "name": "stderr",
     "output_type": "stream",
     "text": [
      "/tmp/ipykernel_24173/3518931779.py:37: SettingWithCopyWarning: \n",
      "A value is trying to be set on a copy of a slice from a DataFrame.\n",
      "Try using .loc[row_indexer,col_indexer] = value instead\n",
      "\n",
      "See the caveats in the documentation: https://pandas.pydata.org/pandas-docs/stable/user_guide/indexing.html#returning-a-view-versus-a-copy\n",
      "  samples_final['conditioned_on'] = f\"{conditioning_feature_to_use}={value}\"\n"
     ]
    },
    {
     "name": "stdout",
     "output_type": "stream",
     "text": [
      "Warning: Only 137 samples generated for age_binned=(63.0, 66.0] after 10 attempts.\n",
      "Generating synthetic data conditioned on age_binned = (50.0, 51.0]\n"
     ]
    },
    {
     "name": "stderr",
     "output_type": "stream",
     "text": [
      "/tmp/ipykernel_24173/3518931779.py:37: SettingWithCopyWarning: \n",
      "A value is trying to be set on a copy of a slice from a DataFrame.\n",
      "Try using .loc[row_indexer,col_indexer] = value instead\n",
      "\n",
      "See the caveats in the documentation: https://pandas.pydata.org/pandas-docs/stable/user_guide/indexing.html#returning-a-view-versus-a-copy\n",
      "  samples_final['conditioned_on'] = f\"{conditioning_feature_to_use}={value}\"\n"
     ]
    },
    {
     "name": "stdout",
     "output_type": "stream",
     "text": [
      "Warning: Only 157 samples generated for age_binned=(50.0, 51.0] after 10 attempts.\n",
      "Generating synthetic data conditioned on age_binned = (25.0, 26.0]\n"
     ]
    },
    {
     "name": "stderr",
     "output_type": "stream",
     "text": [
      "/tmp/ipykernel_24173/3518931779.py:37: SettingWithCopyWarning: \n",
      "A value is trying to be set on a copy of a slice from a DataFrame.\n",
      "Try using .loc[row_indexer,col_indexer] = value instead\n",
      "\n",
      "See the caveats in the documentation: https://pandas.pydata.org/pandas-docs/stable/user_guide/indexing.html#returning-a-view-versus-a-copy\n",
      "  samples_final['conditioned_on'] = f\"{conditioning_feature_to_use}={value}\"\n"
     ]
    },
    {
     "name": "stdout",
     "output_type": "stream",
     "text": [
      "Warning: Only 303 samples generated for age_binned=(25.0, 26.0] after 10 attempts.\n",
      "Generating synthetic data conditioned on age_binned = (61.0, 63.0]\n"
     ]
    },
    {
     "name": "stderr",
     "output_type": "stream",
     "text": [
      "/tmp/ipykernel_24173/3518931779.py:37: SettingWithCopyWarning: \n",
      "A value is trying to be set on a copy of a slice from a DataFrame.\n",
      "Try using .loc[row_indexer,col_indexer] = value instead\n",
      "\n",
      "See the caveats in the documentation: https://pandas.pydata.org/pandas-docs/stable/user_guide/indexing.html#returning-a-view-versus-a-copy\n",
      "  samples_final['conditioned_on'] = f\"{conditioning_feature_to_use}={value}\"\n"
     ]
    },
    {
     "name": "stdout",
     "output_type": "stream",
     "text": [
      "Warning: Only 125 samples generated for age_binned=(61.0, 63.0] after 10 attempts.\n",
      "Using 1 bins for feature 'capital-gain' based on Freedman-Diaconis rule.\n",
      "Generating synthetic data conditioned on capital-gain_binned = (-0.001, 99999.0]\n",
      "Using 313 bins for feature 'hours-per-week' based on Freedman-Diaconis rule.\n",
      "Generating synthetic data conditioned on hours-per-week_binned = (38.0, 40.0]\n"
     ]
    },
    {
     "name": "stderr",
     "output_type": "stream",
     "text": [
      "/tmp/ipykernel_24173/3518931779.py:37: SettingWithCopyWarning: \n",
      "A value is trying to be set on a copy of a slice from a DataFrame.\n",
      "Try using .loc[row_indexer,col_indexer] = value instead\n",
      "\n",
      "See the caveats in the documentation: https://pandas.pydata.org/pandas-docs/stable/user_guide/indexing.html#returning-a-view-versus-a-copy\n",
      "  samples_final['conditioned_on'] = f\"{conditioning_feature_to_use}={value}\"\n",
      "/tmp/ipykernel_24173/3518931779.py:37: SettingWithCopyWarning: \n",
      "A value is trying to be set on a copy of a slice from a DataFrame.\n",
      "Try using .loc[row_indexer,col_indexer] = value instead\n",
      "\n",
      "See the caveats in the documentation: https://pandas.pydata.org/pandas-docs/stable/user_guide/indexing.html#returning-a-view-versus-a-copy\n",
      "  samples_final['conditioned_on'] = f\"{conditioning_feature_to_use}={value}\"\n",
      "/tmp/ipykernel_24173/3518931779.py:37: SettingWithCopyWarning: \n",
      "A value is trying to be set on a copy of a slice from a DataFrame.\n",
      "Try using .loc[row_indexer,col_indexer] = value instead\n",
      "\n",
      "See the caveats in the documentation: https://pandas.pydata.org/pandas-docs/stable/user_guide/indexing.html#returning-a-view-versus-a-copy\n",
      "  samples_final['conditioned_on'] = f\"{conditioning_feature_to_use}={value}\"\n"
     ]
    },
    {
     "name": "stdout",
     "output_type": "stream",
     "text": [
      "Generating synthetic data conditioned on hours-per-week_binned = (12.0, 13.0]\n",
      "Warning: Only 19 samples generated for hours-per-week_binned=(12.0, 13.0] after 10 attempts.\n",
      "Generating synthetic data conditioned on hours-per-week_binned = (15.0, 16.0]\n"
     ]
    },
    {
     "name": "stderr",
     "output_type": "stream",
     "text": [
      "/tmp/ipykernel_24173/3518931779.py:37: SettingWithCopyWarning: \n",
      "A value is trying to be set on a copy of a slice from a DataFrame.\n",
      "Try using .loc[row_indexer,col_indexer] = value instead\n",
      "\n",
      "See the caveats in the documentation: https://pandas.pydata.org/pandas-docs/stable/user_guide/indexing.html#returning-a-view-versus-a-copy\n",
      "  samples_final['conditioned_on'] = f\"{conditioning_feature_to_use}={value}\"\n"
     ]
    },
    {
     "name": "stdout",
     "output_type": "stream",
     "text": [
      "Warning: Only 8 samples generated for hours-per-week_binned=(15.0, 16.0] after 10 attempts.\n",
      "Generating synthetic data conditioned on hours-per-week_binned = (44.0, 45.0]\n"
     ]
    },
    {
     "name": "stderr",
     "output_type": "stream",
     "text": [
      "/tmp/ipykernel_24173/3518931779.py:37: SettingWithCopyWarning: \n",
      "A value is trying to be set on a copy of a slice from a DataFrame.\n",
      "Try using .loc[row_indexer,col_indexer] = value instead\n",
      "\n",
      "See the caveats in the documentation: https://pandas.pydata.org/pandas-docs/stable/user_guide/indexing.html#returning-a-view-versus-a-copy\n",
      "  samples_final['conditioned_on'] = f\"{conditioning_feature_to_use}={value}\"\n"
     ]
    },
    {
     "name": "stdout",
     "output_type": "stream",
     "text": [
      "Warning: Only 176 samples generated for hours-per-week_binned=(44.0, 45.0] after 10 attempts.\n",
      "Generating synthetic data conditioned on hours-per-week_binned = (48.0, 50.0]\n"
     ]
    },
    {
     "name": "stderr",
     "output_type": "stream",
     "text": [
      "/tmp/ipykernel_24173/3518931779.py:37: SettingWithCopyWarning: \n",
      "A value is trying to be set on a copy of a slice from a DataFrame.\n",
      "Try using .loc[row_indexer,col_indexer] = value instead\n",
      "\n",
      "See the caveats in the documentation: https://pandas.pydata.org/pandas-docs/stable/user_guide/indexing.html#returning-a-view-versus-a-copy\n",
      "  samples_final['conditioned_on'] = f\"{conditioning_feature_to_use}={value}\"\n"
     ]
    },
    {
     "name": "stdout",
     "output_type": "stream",
     "text": [
      "Warning: Only 441 samples generated for hours-per-week_binned=(48.0, 50.0] after 10 attempts.\n",
      "Generating synthetic data conditioned on hours-per-week_binned = (75.0, 80.0]\n"
     ]
    },
    {
     "name": "stderr",
     "output_type": "stream",
     "text": [
      "/tmp/ipykernel_24173/3518931779.py:37: SettingWithCopyWarning: \n",
      "A value is trying to be set on a copy of a slice from a DataFrame.\n",
      "Try using .loc[row_indexer,col_indexer] = value instead\n",
      "\n",
      "See the caveats in the documentation: https://pandas.pydata.org/pandas-docs/stable/user_guide/indexing.html#returning-a-view-versus-a-copy\n",
      "  samples_final['conditioned_on'] = f\"{conditioning_feature_to_use}={value}\"\n"
     ]
    },
    {
     "name": "stdout",
     "output_type": "stream",
     "text": [
      "Warning: Only 5 samples generated for hours-per-week_binned=(75.0, 80.0] after 10 attempts.\n",
      "Generating synthetic data conditioned on hours-per-week_binned = (28.0, 30.0]\n"
     ]
    },
    {
     "name": "stderr",
     "output_type": "stream",
     "text": [
      "/tmp/ipykernel_24173/3518931779.py:37: SettingWithCopyWarning: \n",
      "A value is trying to be set on a copy of a slice from a DataFrame.\n",
      "Try using .loc[row_indexer,col_indexer] = value instead\n",
      "\n",
      "See the caveats in the documentation: https://pandas.pydata.org/pandas-docs/stable/user_guide/indexing.html#returning-a-view-versus-a-copy\n",
      "  samples_final['conditioned_on'] = f\"{conditioning_feature_to_use}={value}\"\n",
      "/tmp/ipykernel_24173/3518931779.py:37: SettingWithCopyWarning: \n",
      "A value is trying to be set on a copy of a slice from a DataFrame.\n",
      "Try using .loc[row_indexer,col_indexer] = value instead\n",
      "\n",
      "See the caveats in the documentation: https://pandas.pydata.org/pandas-docs/stable/user_guide/indexing.html#returning-a-view-versus-a-copy\n",
      "  samples_final['conditioned_on'] = f\"{conditioning_feature_to_use}={value}\"\n"
     ]
    },
    {
     "name": "stdout",
     "output_type": "stream",
     "text": [
      "Generating synthetic data conditioned on hours-per-week_binned = (32.0, 35.0]\n",
      "Warning: Only 447 samples generated for hours-per-week_binned=(32.0, 35.0] after 10 attempts.\n",
      "Generating synthetic data conditioned on hours-per-week_binned = (58.0, 60.0]\n"
     ]
    },
    {
     "name": "stderr",
     "output_type": "stream",
     "text": [
      "/tmp/ipykernel_24173/3518931779.py:37: SettingWithCopyWarning: \n",
      "A value is trying to be set on a copy of a slice from a DataFrame.\n",
      "Try using .loc[row_indexer,col_indexer] = value instead\n",
      "\n",
      "See the caveats in the documentation: https://pandas.pydata.org/pandas-docs/stable/user_guide/indexing.html#returning-a-view-versus-a-copy\n",
      "  samples_final['conditioned_on'] = f\"{conditioning_feature_to_use}={value}\"\n"
     ]
    },
    {
     "name": "stdout",
     "output_type": "stream",
     "text": [
      "Warning: Only 102 samples generated for hours-per-week_binned=(58.0, 60.0] after 10 attempts.\n",
      "Generating synthetic data conditioned on hours-per-week_binned = (18.0, 20.0]\n"
     ]
    },
    {
     "name": "stderr",
     "output_type": "stream",
     "text": [
      "/tmp/ipykernel_24173/3518931779.py:37: SettingWithCopyWarning: \n",
      "A value is trying to be set on a copy of a slice from a DataFrame.\n",
      "Try using .loc[row_indexer,col_indexer] = value instead\n",
      "\n",
      "See the caveats in the documentation: https://pandas.pydata.org/pandas-docs/stable/user_guide/indexing.html#returning-a-view-versus-a-copy\n",
      "  samples_final['conditioned_on'] = f\"{conditioning_feature_to_use}={value}\"\n"
     ]
    },
    {
     "name": "stdout",
     "output_type": "stream",
     "text": [
      "Warning: Only 345 samples generated for hours-per-week_binned=(18.0, 20.0] after 10 attempts.\n",
      "Generating synthetic data conditioned on hours-per-week_binned = (51.0, 52.0]\n"
     ]
    },
    {
     "name": "stderr",
     "output_type": "stream",
     "text": [
      "/tmp/ipykernel_24173/3518931779.py:37: SettingWithCopyWarning: \n",
      "A value is trying to be set on a copy of a slice from a DataFrame.\n",
      "Try using .loc[row_indexer,col_indexer] = value instead\n",
      "\n",
      "See the caveats in the documentation: https://pandas.pydata.org/pandas-docs/stable/user_guide/indexing.html#returning-a-view-versus-a-copy\n",
      "  samples_final['conditioned_on'] = f\"{conditioning_feature_to_use}={value}\"\n"
     ]
    },
    {
     "name": "stdout",
     "output_type": "stream",
     "text": [
      "Warning: Only 1 samples generated for hours-per-week_binned=(51.0, 52.0] after 10 attempts.\n",
      "Generating synthetic data conditioned on hours-per-week_binned = (43.0, 44.0]\n"
     ]
    },
    {
     "name": "stderr",
     "output_type": "stream",
     "text": [
      "/tmp/ipykernel_24173/3518931779.py:37: SettingWithCopyWarning: \n",
      "A value is trying to be set on a copy of a slice from a DataFrame.\n",
      "Try using .loc[row_indexer,col_indexer] = value instead\n",
      "\n",
      "See the caveats in the documentation: https://pandas.pydata.org/pandas-docs/stable/user_guide/indexing.html#returning-a-view-versus-a-copy\n",
      "  samples_final['conditioned_on'] = f\"{conditioning_feature_to_use}={value}\"\n"
     ]
    },
    {
     "name": "stdout",
     "output_type": "stream",
     "text": [
      "Warning: Only 324 samples generated for hours-per-week_binned=(43.0, 44.0] after 10 attempts.\n",
      "Generating synthetic data conditioned on hours-per-week_binned = (13.0, 15.0]\n"
     ]
    },
    {
     "name": "stderr",
     "output_type": "stream",
     "text": [
      "/tmp/ipykernel_24173/3518931779.py:37: SettingWithCopyWarning: \n",
      "A value is trying to be set on a copy of a slice from a DataFrame.\n",
      "Try using .loc[row_indexer,col_indexer] = value instead\n",
      "\n",
      "See the caveats in the documentation: https://pandas.pydata.org/pandas-docs/stable/user_guide/indexing.html#returning-a-view-versus-a-copy\n",
      "  samples_final['conditioned_on'] = f\"{conditioning_feature_to_use}={value}\"\n"
     ]
    },
    {
     "name": "stdout",
     "output_type": "stream",
     "text": [
      "Warning: Only 15 samples generated for hours-per-week_binned=(13.0, 15.0] after 10 attempts.\n",
      "Generating synthetic data conditioned on hours-per-week_binned = (24.0, 25.0]\n"
     ]
    },
    {
     "name": "stderr",
     "output_type": "stream",
     "text": [
      "/tmp/ipykernel_24173/3518931779.py:37: SettingWithCopyWarning: \n",
      "A value is trying to be set on a copy of a slice from a DataFrame.\n",
      "Try using .loc[row_indexer,col_indexer] = value instead\n",
      "\n",
      "See the caveats in the documentation: https://pandas.pydata.org/pandas-docs/stable/user_guide/indexing.html#returning-a-view-versus-a-copy\n",
      "  samples_final['conditioned_on'] = f\"{conditioning_feature_to_use}={value}\"\n"
     ]
    },
    {
     "name": "stdout",
     "output_type": "stream",
     "text": [
      "Warning: Only 21 samples generated for hours-per-week_binned=(24.0, 25.0] after 10 attempts.\n",
      "Generating synthetic data conditioned on hours-per-week_binned = (37.0, 38.0]\n"
     ]
    },
    {
     "name": "stderr",
     "output_type": "stream",
     "text": [
      "/tmp/ipykernel_24173/3518931779.py:37: SettingWithCopyWarning: \n",
      "A value is trying to be set on a copy of a slice from a DataFrame.\n",
      "Try using .loc[row_indexer,col_indexer] = value instead\n",
      "\n",
      "See the caveats in the documentation: https://pandas.pydata.org/pandas-docs/stable/user_guide/indexing.html#returning-a-view-versus-a-copy\n",
      "  samples_final['conditioned_on'] = f\"{conditioning_feature_to_use}={value}\"\n"
     ]
    },
    {
     "name": "stdout",
     "output_type": "stream",
     "text": [
      "Warning: Only 3 samples generated for hours-per-week_binned=(37.0, 38.0] after 10 attempts.\n",
      "Generating synthetic data conditioned on hours-per-week_binned = (42.0, 43.0]\n"
     ]
    },
    {
     "name": "stderr",
     "output_type": "stream",
     "text": [
      "/tmp/ipykernel_24173/3518931779.py:37: SettingWithCopyWarning: \n",
      "A value is trying to be set on a copy of a slice from a DataFrame.\n",
      "Try using .loc[row_indexer,col_indexer] = value instead\n",
      "\n",
      "See the caveats in the documentation: https://pandas.pydata.org/pandas-docs/stable/user_guide/indexing.html#returning-a-view-versus-a-copy\n",
      "  samples_final['conditioned_on'] = f\"{conditioning_feature_to_use}={value}\"\n"
     ]
    },
    {
     "name": "stdout",
     "output_type": "stream",
     "text": [
      "Warning: Only 59 samples generated for hours-per-week_binned=(42.0, 43.0] after 10 attempts.\n",
      "Generating synthetic data conditioned on hours-per-week_binned = (54.0, 55.0]\n"
     ]
    },
    {
     "name": "stderr",
     "output_type": "stream",
     "text": [
      "/tmp/ipykernel_24173/3518931779.py:37: SettingWithCopyWarning: \n",
      "A value is trying to be set on a copy of a slice from a DataFrame.\n",
      "Try using .loc[row_indexer,col_indexer] = value instead\n",
      "\n",
      "See the caveats in the documentation: https://pandas.pydata.org/pandas-docs/stable/user_guide/indexing.html#returning-a-view-versus-a-copy\n",
      "  samples_final['conditioned_on'] = f\"{conditioning_feature_to_use}={value}\"\n"
     ]
    },
    {
     "name": "stdout",
     "output_type": "stream",
     "text": [
      "Warning: Only 57 samples generated for hours-per-week_binned=(54.0, 55.0] after 10 attempts.\n",
      "Generating synthetic data conditioned on hours-per-week_binned = (46.0, 48.0]\n"
     ]
    },
    {
     "name": "stderr",
     "output_type": "stream",
     "text": [
      "/tmp/ipykernel_24173/3518931779.py:37: SettingWithCopyWarning: \n",
      "A value is trying to be set on a copy of a slice from a DataFrame.\n",
      "Try using .loc[row_indexer,col_indexer] = value instead\n",
      "\n",
      "See the caveats in the documentation: https://pandas.pydata.org/pandas-docs/stable/user_guide/indexing.html#returning-a-view-versus-a-copy\n",
      "  samples_final['conditioned_on'] = f\"{conditioning_feature_to_use}={value}\"\n"
     ]
    },
    {
     "name": "stdout",
     "output_type": "stream",
     "text": [
      "Warning: Only 1 samples generated for hours-per-week_binned=(46.0, 48.0] after 10 attempts.\n",
      "Generating synthetic data conditioned on hours-per-week_binned = (56.0, 58.0]\n"
     ]
    },
    {
     "name": "stderr",
     "output_type": "stream",
     "text": [
      "/tmp/ipykernel_24173/3518931779.py:37: SettingWithCopyWarning: \n",
      "A value is trying to be set on a copy of a slice from a DataFrame.\n",
      "Try using .loc[row_indexer,col_indexer] = value instead\n",
      "\n",
      "See the caveats in the documentation: https://pandas.pydata.org/pandas-docs/stable/user_guide/indexing.html#returning-a-view-versus-a-copy\n",
      "  samples_final['conditioned_on'] = f\"{conditioning_feature_to_use}={value}\"\n"
     ]
    },
    {
     "name": "stdout",
     "output_type": "stream",
     "text": [
      "Warning: Only 213 samples generated for hours-per-week_binned=(56.0, 58.0] after 10 attempts.\n",
      "Generating synthetic data conditioned on hours-per-week_binned = (30.0, 32.0]\n"
     ]
    },
    {
     "name": "stderr",
     "output_type": "stream",
     "text": [
      "/tmp/ipykernel_24173/3518931779.py:37: SettingWithCopyWarning: \n",
      "A value is trying to be set on a copy of a slice from a DataFrame.\n",
      "Try using .loc[row_indexer,col_indexer] = value instead\n",
      "\n",
      "See the caveats in the documentation: https://pandas.pydata.org/pandas-docs/stable/user_guide/indexing.html#returning-a-view-versus-a-copy\n",
      "  samples_final['conditioned_on'] = f\"{conditioning_feature_to_use}={value}\"\n"
     ]
    },
    {
     "name": "stdout",
     "output_type": "stream",
     "text": [
      "Warning: Only 124 samples generated for hours-per-week_binned=(30.0, 32.0] after 10 attempts.\n",
      "Generating synthetic data conditioned on hours-per-week_binned = (65.0, 70.0]\n"
     ]
    },
    {
     "name": "stderr",
     "output_type": "stream",
     "text": [
      "/tmp/ipykernel_24173/3518931779.py:37: SettingWithCopyWarning: \n",
      "A value is trying to be set on a copy of a slice from a DataFrame.\n",
      "Try using .loc[row_indexer,col_indexer] = value instead\n",
      "\n",
      "See the caveats in the documentation: https://pandas.pydata.org/pandas-docs/stable/user_guide/indexing.html#returning-a-view-versus-a-copy\n",
      "  samples_final['conditioned_on'] = f\"{conditioning_feature_to_use}={value}\"\n"
     ]
    },
    {
     "name": "stdout",
     "output_type": "stream",
     "text": [
      "Warning: Only 197 samples generated for hours-per-week_binned=(65.0, 70.0] after 10 attempts.\n",
      "Generating synthetic data conditioned on hours-per-week_binned = (0.999, 4.0]\n"
     ]
    },
    {
     "name": "stderr",
     "output_type": "stream",
     "text": [
      "/tmp/ipykernel_24173/3518931779.py:37: SettingWithCopyWarning: \n",
      "A value is trying to be set on a copy of a slice from a DataFrame.\n",
      "Try using .loc[row_indexer,col_indexer] = value instead\n",
      "\n",
      "See the caveats in the documentation: https://pandas.pydata.org/pandas-docs/stable/user_guide/indexing.html#returning-a-view-versus-a-copy\n",
      "  samples_final['conditioned_on'] = f\"{conditioning_feature_to_use}={value}\"\n"
     ]
    },
    {
     "name": "stdout",
     "output_type": "stream",
     "text": [
      "Warning: Only 11 samples generated for hours-per-week_binned=(0.999, 4.0] after 10 attempts.\n",
      "Generating synthetic data conditioned on hours-per-week_binned = (20.0, 23.741]\n"
     ]
    },
    {
     "name": "stderr",
     "output_type": "stream",
     "text": [
      "/tmp/ipykernel_24173/3518931779.py:37: SettingWithCopyWarning: \n",
      "A value is trying to be set on a copy of a slice from a DataFrame.\n",
      "Try using .loc[row_indexer,col_indexer] = value instead\n",
      "\n",
      "See the caveats in the documentation: https://pandas.pydata.org/pandas-docs/stable/user_guide/indexing.html#returning-a-view-versus-a-copy\n",
      "  samples_final['conditioned_on'] = f\"{conditioning_feature_to_use}={value}\"\n",
      "/tmp/ipykernel_24173/3518931779.py:37: SettingWithCopyWarning: \n",
      "A value is trying to be set on a copy of a slice from a DataFrame.\n",
      "Try using .loc[row_indexer,col_indexer] = value instead\n",
      "\n",
      "See the caveats in the documentation: https://pandas.pydata.org/pandas-docs/stable/user_guide/indexing.html#returning-a-view-versus-a-copy\n",
      "  samples_final['conditioned_on'] = f\"{conditioning_feature_to_use}={value}\"\n"
     ]
    },
    {
     "name": "stdout",
     "output_type": "stream",
     "text": [
      "Generating synthetic data conditioned on hours-per-week_binned = (55.0, 56.0]\n",
      "Warning: Only 90 samples generated for hours-per-week_binned=(55.0, 56.0] after 10 attempts.\n",
      "Generating synthetic data conditioned on hours-per-week_binned = (40.0, 41.0]\n"
     ]
    },
    {
     "name": "stderr",
     "output_type": "stream",
     "text": [
      "/tmp/ipykernel_24173/3518931779.py:37: SettingWithCopyWarning: \n",
      "A value is trying to be set on a copy of a slice from a DataFrame.\n",
      "Try using .loc[row_indexer,col_indexer] = value instead\n",
      "\n",
      "See the caveats in the documentation: https://pandas.pydata.org/pandas-docs/stable/user_guide/indexing.html#returning-a-view-versus-a-copy\n",
      "  samples_final['conditioned_on'] = f\"{conditioning_feature_to_use}={value}\"\n"
     ]
    },
    {
     "name": "stdout",
     "output_type": "stream",
     "text": [
      "Warning: Only 0 samples generated for hours-per-week_binned=(40.0, 41.0] after 10 attempts.\n",
      "Generating synthetic data conditioned on hours-per-week_binned = (26.0, 28.0]\n",
      "Warning: Only 2 samples generated for hours-per-week_binned=(26.0, 28.0] after 10 attempts.\n",
      "Generating synthetic data conditioned on hours-per-week_binned = (35.0, 36.0]\n"
     ]
    },
    {
     "name": "stderr",
     "output_type": "stream",
     "text": [
      "/tmp/ipykernel_24173/3518931779.py:37: SettingWithCopyWarning: \n",
      "A value is trying to be set on a copy of a slice from a DataFrame.\n",
      "Try using .loc[row_indexer,col_indexer] = value instead\n",
      "\n",
      "See the caveats in the documentation: https://pandas.pydata.org/pandas-docs/stable/user_guide/indexing.html#returning-a-view-versus-a-copy\n",
      "  samples_final['conditioned_on'] = f\"{conditioning_feature_to_use}={value}\"\n"
     ]
    },
    {
     "name": "stdout",
     "output_type": "stream",
     "text": [
      "Warning: Only 227 samples generated for hours-per-week_binned=(35.0, 36.0] after 10 attempts.\n",
      "Generating synthetic data conditioned on hours-per-week_binned = (23.741, 24.0]\n"
     ]
    },
    {
     "name": "stderr",
     "output_type": "stream",
     "text": [
      "/tmp/ipykernel_24173/3518931779.py:37: SettingWithCopyWarning: \n",
      "A value is trying to be set on a copy of a slice from a DataFrame.\n",
      "Try using .loc[row_indexer,col_indexer] = value instead\n",
      "\n",
      "See the caveats in the documentation: https://pandas.pydata.org/pandas-docs/stable/user_guide/indexing.html#returning-a-view-versus-a-copy\n",
      "  samples_final['conditioned_on'] = f\"{conditioning_feature_to_use}={value}\"\n"
     ]
    },
    {
     "name": "stdout",
     "output_type": "stream",
     "text": [
      "Warning: Only 45 samples generated for hours-per-week_binned=(23.741, 24.0] after 10 attempts.\n",
      "Generating synthetic data conditioned on hours-per-week_binned = (45.0, 46.0]\n"
     ]
    },
    {
     "name": "stderr",
     "output_type": "stream",
     "text": [
      "/tmp/ipykernel_24173/3518931779.py:37: SettingWithCopyWarning: \n",
      "A value is trying to be set on a copy of a slice from a DataFrame.\n",
      "Try using .loc[row_indexer,col_indexer] = value instead\n",
      "\n",
      "See the caveats in the documentation: https://pandas.pydata.org/pandas-docs/stable/user_guide/indexing.html#returning-a-view-versus-a-copy\n",
      "  samples_final['conditioned_on'] = f\"{conditioning_feature_to_use}={value}\"\n"
     ]
    },
    {
     "name": "stdout",
     "output_type": "stream",
     "text": [
      "Warning: Only 13 samples generated for hours-per-week_binned=(45.0, 46.0] after 10 attempts.\n",
      "Generating synthetic data conditioned on hours-per-week_binned = (41.0, 42.0]\n"
     ]
    },
    {
     "name": "stderr",
     "output_type": "stream",
     "text": [
      "/tmp/ipykernel_24173/3518931779.py:37: SettingWithCopyWarning: \n",
      "A value is trying to be set on a copy of a slice from a DataFrame.\n",
      "Try using .loc[row_indexer,col_indexer] = value instead\n",
      "\n",
      "See the caveats in the documentation: https://pandas.pydata.org/pandas-docs/stable/user_guide/indexing.html#returning-a-view-versus-a-copy\n",
      "  samples_final['conditioned_on'] = f\"{conditioning_feature_to_use}={value}\"\n"
     ]
    },
    {
     "name": "stdout",
     "output_type": "stream",
     "text": [
      "Warning: Only 1 samples generated for hours-per-week_binned=(41.0, 42.0] after 10 attempts.\n",
      "Generating synthetic data conditioned on hours-per-week_binned = (10.0, 12.0]\n"
     ]
    },
    {
     "name": "stderr",
     "output_type": "stream",
     "text": [
      "/tmp/ipykernel_24173/3518931779.py:37: SettingWithCopyWarning: \n",
      "A value is trying to be set on a copy of a slice from a DataFrame.\n",
      "Try using .loc[row_indexer,col_indexer] = value instead\n",
      "\n",
      "See the caveats in the documentation: https://pandas.pydata.org/pandas-docs/stable/user_guide/indexing.html#returning-a-view-versus-a-copy\n",
      "  samples_final['conditioned_on'] = f\"{conditioning_feature_to_use}={value}\"\n"
     ]
    },
    {
     "name": "stdout",
     "output_type": "stream",
     "text": [
      "Warning: Only 52 samples generated for hours-per-week_binned=(10.0, 12.0] after 10 attempts.\n",
      "Generating synthetic data conditioned on hours-per-week_binned = (60.0, 65.0]\n"
     ]
    },
    {
     "name": "stderr",
     "output_type": "stream",
     "text": [
      "/tmp/ipykernel_24173/3518931779.py:37: SettingWithCopyWarning: \n",
      "A value is trying to be set on a copy of a slice from a DataFrame.\n",
      "Try using .loc[row_indexer,col_indexer] = value instead\n",
      "\n",
      "See the caveats in the documentation: https://pandas.pydata.org/pandas-docs/stable/user_guide/indexing.html#returning-a-view-versus-a-copy\n",
      "  samples_final['conditioned_on'] = f\"{conditioning_feature_to_use}={value}\"\n"
     ]
    },
    {
     "name": "stdout",
     "output_type": "stream",
     "text": [
      "Warning: Only 203 samples generated for hours-per-week_binned=(60.0, 65.0] after 10 attempts.\n",
      "Generating synthetic data conditioned on hours-per-week_binned = (8.0, 10.0]\n"
     ]
    },
    {
     "name": "stderr",
     "output_type": "stream",
     "text": [
      "/tmp/ipykernel_24173/3518931779.py:37: SettingWithCopyWarning: \n",
      "A value is trying to be set on a copy of a slice from a DataFrame.\n",
      "Try using .loc[row_indexer,col_indexer] = value instead\n",
      "\n",
      "See the caveats in the documentation: https://pandas.pydata.org/pandas-docs/stable/user_guide/indexing.html#returning-a-view-versus-a-copy\n",
      "  samples_final['conditioned_on'] = f\"{conditioning_feature_to_use}={value}\"\n"
     ]
    },
    {
     "name": "stdout",
     "output_type": "stream",
     "text": [
      "Warning: Only 55 samples generated for hours-per-week_binned=(8.0, 10.0] after 10 attempts.\n",
      "Generating synthetic data conditioned on hours-per-week_binned = (70.0, 75.0]\n"
     ]
    },
    {
     "name": "stderr",
     "output_type": "stream",
     "text": [
      "/tmp/ipykernel_24173/3518931779.py:37: SettingWithCopyWarning: \n",
      "A value is trying to be set on a copy of a slice from a DataFrame.\n",
      "Try using .loc[row_indexer,col_indexer] = value instead\n",
      "\n",
      "See the caveats in the documentation: https://pandas.pydata.org/pandas-docs/stable/user_guide/indexing.html#returning-a-view-versus-a-copy\n",
      "  samples_final['conditioned_on'] = f\"{conditioning_feature_to_use}={value}\"\n"
     ]
    },
    {
     "name": "stdout",
     "output_type": "stream",
     "text": [
      "Warning: Only 54 samples generated for hours-per-week_binned=(70.0, 75.0] after 10 attempts.\n",
      "Generating synthetic data conditioned on hours-per-week_binned = (94.974, 99.0]\n"
     ]
    },
    {
     "name": "stderr",
     "output_type": "stream",
     "text": [
      "/tmp/ipykernel_24173/3518931779.py:37: SettingWithCopyWarning: \n",
      "A value is trying to be set on a copy of a slice from a DataFrame.\n",
      "Try using .loc[row_indexer,col_indexer] = value instead\n",
      "\n",
      "See the caveats in the documentation: https://pandas.pydata.org/pandas-docs/stable/user_guide/indexing.html#returning-a-view-versus-a-copy\n",
      "  samples_final['conditioned_on'] = f\"{conditioning_feature_to_use}={value}\"\n"
     ]
    },
    {
     "name": "stdout",
     "output_type": "stream",
     "text": [
      "Warning: Only 7 samples generated for hours-per-week_binned=(94.974, 99.0] after 10 attempts.\n",
      "Generating synthetic data conditioned on hours-per-week_binned = (52.0, 54.0]\n"
     ]
    },
    {
     "name": "stderr",
     "output_type": "stream",
     "text": [
      "/tmp/ipykernel_24173/3518931779.py:37: SettingWithCopyWarning: \n",
      "A value is trying to be set on a copy of a slice from a DataFrame.\n",
      "Try using .loc[row_indexer,col_indexer] = value instead\n",
      "\n",
      "See the caveats in the documentation: https://pandas.pydata.org/pandas-docs/stable/user_guide/indexing.html#returning-a-view-versus-a-copy\n",
      "  samples_final['conditioned_on'] = f\"{conditioning_feature_to_use}={value}\"\n"
     ]
    },
    {
     "name": "stdout",
     "output_type": "stream",
     "text": [
      "Warning: Only 31 samples generated for hours-per-week_binned=(52.0, 54.0] after 10 attempts.\n",
      "Generating synthetic data conditioned on hours-per-week_binned = (6.0, 8.0]\n"
     ]
    },
    {
     "name": "stderr",
     "output_type": "stream",
     "text": [
      "/tmp/ipykernel_24173/3518931779.py:37: SettingWithCopyWarning: \n",
      "A value is trying to be set on a copy of a slice from a DataFrame.\n",
      "Try using .loc[row_indexer,col_indexer] = value instead\n",
      "\n",
      "See the caveats in the documentation: https://pandas.pydata.org/pandas-docs/stable/user_guide/indexing.html#returning-a-view-versus-a-copy\n",
      "  samples_final['conditioned_on'] = f\"{conditioning_feature_to_use}={value}\"\n"
     ]
    },
    {
     "name": "stdout",
     "output_type": "stream",
     "text": [
      "Warning: Only 62 samples generated for hours-per-week_binned=(6.0, 8.0] after 10 attempts.\n",
      "Generating synthetic data conditioned on hours-per-week_binned = (4.0, 6.0]\n"
     ]
    },
    {
     "name": "stderr",
     "output_type": "stream",
     "text": [
      "/tmp/ipykernel_24173/3518931779.py:37: SettingWithCopyWarning: \n",
      "A value is trying to be set on a copy of a slice from a DataFrame.\n",
      "Try using .loc[row_indexer,col_indexer] = value instead\n",
      "\n",
      "See the caveats in the documentation: https://pandas.pydata.org/pandas-docs/stable/user_guide/indexing.html#returning-a-view-versus-a-copy\n",
      "  samples_final['conditioned_on'] = f\"{conditioning_feature_to_use}={value}\"\n"
     ]
    },
    {
     "name": "stdout",
     "output_type": "stream",
     "text": [
      "Warning: Only 22 samples generated for hours-per-week_binned=(4.0, 6.0] after 10 attempts.\n",
      "Generating synthetic data conditioned on hours-per-week_binned = (16.0, 18.0]\n"
     ]
    },
    {
     "name": "stderr",
     "output_type": "stream",
     "text": [
      "/tmp/ipykernel_24173/3518931779.py:37: SettingWithCopyWarning: \n",
      "A value is trying to be set on a copy of a slice from a DataFrame.\n",
      "Try using .loc[row_indexer,col_indexer] = value instead\n",
      "\n",
      "See the caveats in the documentation: https://pandas.pydata.org/pandas-docs/stable/user_guide/indexing.html#returning-a-view-versus-a-copy\n",
      "  samples_final['conditioned_on'] = f\"{conditioning_feature_to_use}={value}\"\n"
     ]
    },
    {
     "name": "stdout",
     "output_type": "stream",
     "text": [
      "Warning: Only 128 samples generated for hours-per-week_binned=(16.0, 18.0] after 10 attempts.\n",
      "Generating synthetic data conditioned on hours-per-week_binned = (36.0, 37.0]\n"
     ]
    },
    {
     "name": "stderr",
     "output_type": "stream",
     "text": [
      "/tmp/ipykernel_24173/3518931779.py:37: SettingWithCopyWarning: \n",
      "A value is trying to be set on a copy of a slice from a DataFrame.\n",
      "Try using .loc[row_indexer,col_indexer] = value instead\n",
      "\n",
      "See the caveats in the documentation: https://pandas.pydata.org/pandas-docs/stable/user_guide/indexing.html#returning-a-view-versus-a-copy\n",
      "  samples_final['conditioned_on'] = f\"{conditioning_feature_to_use}={value}\"\n"
     ]
    },
    {
     "name": "stdout",
     "output_type": "stream",
     "text": [
      "Warning: Only 40 samples generated for hours-per-week_binned=(36.0, 37.0] after 10 attempts.\n",
      "Generating synthetic data conditioned on hours-per-week_binned = (25.0, 26.0]\n"
     ]
    },
    {
     "name": "stderr",
     "output_type": "stream",
     "text": [
      "/tmp/ipykernel_24173/3518931779.py:37: SettingWithCopyWarning: \n",
      "A value is trying to be set on a copy of a slice from a DataFrame.\n",
      "Try using .loc[row_indexer,col_indexer] = value instead\n",
      "\n",
      "See the caveats in the documentation: https://pandas.pydata.org/pandas-docs/stable/user_guide/indexing.html#returning-a-view-versus-a-copy\n",
      "  samples_final['conditioned_on'] = f\"{conditioning_feature_to_use}={value}\"\n"
     ]
    },
    {
     "name": "stdout",
     "output_type": "stream",
     "text": [
      "Warning: Only 2 samples generated for hours-per-week_binned=(25.0, 26.0] after 10 attempts.\n",
      "Generating synthetic data conditioned on hours-per-week_binned = (80.0, 94.974]\n"
     ]
    },
    {
     "name": "stderr",
     "output_type": "stream",
     "text": [
      "/tmp/ipykernel_24173/3518931779.py:37: SettingWithCopyWarning: \n",
      "A value is trying to be set on a copy of a slice from a DataFrame.\n",
      "Try using .loc[row_indexer,col_indexer] = value instead\n",
      "\n",
      "See the caveats in the documentation: https://pandas.pydata.org/pandas-docs/stable/user_guide/indexing.html#returning-a-view-versus-a-copy\n",
      "  samples_final['conditioned_on'] = f\"{conditioning_feature_to_use}={value}\"\n"
     ]
    },
    {
     "name": "stdout",
     "output_type": "stream",
     "text": [
      "Warning: Only 47 samples generated for hours-per-week_binned=(80.0, 94.974] after 10 attempts.\n",
      "Generating synthetic data conditioned on hours-per-week_binned = (50.0, 51.0]\n"
     ]
    },
    {
     "name": "stderr",
     "output_type": "stream",
     "text": [
      "/tmp/ipykernel_24173/3518931779.py:37: SettingWithCopyWarning: \n",
      "A value is trying to be set on a copy of a slice from a DataFrame.\n",
      "Try using .loc[row_indexer,col_indexer] = value instead\n",
      "\n",
      "See the caveats in the documentation: https://pandas.pydata.org/pandas-docs/stable/user_guide/indexing.html#returning-a-view-versus-a-copy\n",
      "  samples_final['conditioned_on'] = f\"{conditioning_feature_to_use}={value}\"\n"
     ]
    },
    {
     "name": "stdout",
     "output_type": "stream",
     "text": [
      "Warning: Only 1 samples generated for hours-per-week_binned=(50.0, 51.0] after 10 attempts.\n",
      "Using 80 bins for feature 'education-num' based on Freedman-Diaconis rule.\n",
      "Generating synthetic data conditioned on education-num_binned = (12.0, 13.0]\n"
     ]
    },
    {
     "name": "stderr",
     "output_type": "stream",
     "text": [
      "/tmp/ipykernel_24173/3518931779.py:37: SettingWithCopyWarning: \n",
      "A value is trying to be set on a copy of a slice from a DataFrame.\n",
      "Try using .loc[row_indexer,col_indexer] = value instead\n",
      "\n",
      "See the caveats in the documentation: https://pandas.pydata.org/pandas-docs/stable/user_guide/indexing.html#returning-a-view-versus-a-copy\n",
      "  samples_final['conditioned_on'] = f\"{conditioning_feature_to_use}={value}\"\n",
      "/tmp/ipykernel_24173/3518931779.py:37: SettingWithCopyWarning: \n",
      "A value is trying to be set on a copy of a slice from a DataFrame.\n",
      "Try using .loc[row_indexer,col_indexer] = value instead\n",
      "\n",
      "See the caveats in the documentation: https://pandas.pydata.org/pandas-docs/stable/user_guide/indexing.html#returning-a-view-versus-a-copy\n",
      "  samples_final['conditioned_on'] = f\"{conditioning_feature_to_use}={value}\"\n",
      "/tmp/ipykernel_24173/3518931779.py:37: SettingWithCopyWarning: \n",
      "A value is trying to be set on a copy of a slice from a DataFrame.\n",
      "Try using .loc[row_indexer,col_indexer] = value instead\n",
      "\n",
      "See the caveats in the documentation: https://pandas.pydata.org/pandas-docs/stable/user_guide/indexing.html#returning-a-view-versus-a-copy\n",
      "  samples_final['conditioned_on'] = f\"{conditioning_feature_to_use}={value}\"\n"
     ]
    },
    {
     "name": "stdout",
     "output_type": "stream",
     "text": [
      "Generating synthetic data conditioned on education-num_binned = (8.0, 9.0]\n",
      "Generating synthetic data conditioned on education-num_binned = (6.0, 7.0]\n",
      "Warning: Only 480 samples generated for education-num_binned=(6.0, 7.0] after 10 attempts.\n",
      "Generating synthetic data conditioned on education-num_binned = (13.0, 14.0]\n"
     ]
    },
    {
     "name": "stderr",
     "output_type": "stream",
     "text": [
      "/tmp/ipykernel_24173/3518931779.py:37: SettingWithCopyWarning: \n",
      "A value is trying to be set on a copy of a slice from a DataFrame.\n",
      "Try using .loc[row_indexer,col_indexer] = value instead\n",
      "\n",
      "See the caveats in the documentation: https://pandas.pydata.org/pandas-docs/stable/user_guide/indexing.html#returning-a-view-versus-a-copy\n",
      "  samples_final['conditioned_on'] = f\"{conditioning_feature_to_use}={value}\"\n"
     ]
    },
    {
     "name": "stdout",
     "output_type": "stream",
     "text": [
      "Warning: Only 462 samples generated for education-num_binned=(13.0, 14.0] after 10 attempts.\n",
      "Generating synthetic data conditioned on education-num_binned = (4.0, 5.0]\n"
     ]
    },
    {
     "name": "stderr",
     "output_type": "stream",
     "text": [
      "/tmp/ipykernel_24173/3518931779.py:37: SettingWithCopyWarning: \n",
      "A value is trying to be set on a copy of a slice from a DataFrame.\n",
      "Try using .loc[row_indexer,col_indexer] = value instead\n",
      "\n",
      "See the caveats in the documentation: https://pandas.pydata.org/pandas-docs/stable/user_guide/indexing.html#returning-a-view-versus-a-copy\n",
      "  samples_final['conditioned_on'] = f\"{conditioning_feature_to_use}={value}\"\n"
     ]
    },
    {
     "name": "stdout",
     "output_type": "stream",
     "text": [
      "Warning: Only 148 samples generated for education-num_binned=(4.0, 5.0] after 10 attempts.\n",
      "Generating synthetic data conditioned on education-num_binned = (9.0, 10.0]\n"
     ]
    },
    {
     "name": "stderr",
     "output_type": "stream",
     "text": [
      "/tmp/ipykernel_24173/3518931779.py:37: SettingWithCopyWarning: \n",
      "A value is trying to be set on a copy of a slice from a DataFrame.\n",
      "Try using .loc[row_indexer,col_indexer] = value instead\n",
      "\n",
      "See the caveats in the documentation: https://pandas.pydata.org/pandas-docs/stable/user_guide/indexing.html#returning-a-view-versus-a-copy\n",
      "  samples_final['conditioned_on'] = f\"{conditioning_feature_to_use}={value}\"\n",
      "/tmp/ipykernel_24173/3518931779.py:37: SettingWithCopyWarning: \n",
      "A value is trying to be set on a copy of a slice from a DataFrame.\n",
      "Try using .loc[row_indexer,col_indexer] = value instead\n",
      "\n",
      "See the caveats in the documentation: https://pandas.pydata.org/pandas-docs/stable/user_guide/indexing.html#returning-a-view-versus-a-copy\n",
      "  samples_final['conditioned_on'] = f\"{conditioning_feature_to_use}={value}\"\n"
     ]
    },
    {
     "name": "stdout",
     "output_type": "stream",
     "text": [
      "Generating synthetic data conditioned on education-num_binned = (11.0, 12.0]\n",
      "Warning: Only 78 samples generated for education-num_binned=(11.0, 12.0] after 10 attempts.\n",
      "Generating synthetic data conditioned on education-num_binned = (10.0, 11.0]\n"
     ]
    },
    {
     "name": "stderr",
     "output_type": "stream",
     "text": [
      "/tmp/ipykernel_24173/3518931779.py:37: SettingWithCopyWarning: \n",
      "A value is trying to be set on a copy of a slice from a DataFrame.\n",
      "Try using .loc[row_indexer,col_indexer] = value instead\n",
      "\n",
      "See the caveats in the documentation: https://pandas.pydata.org/pandas-docs/stable/user_guide/indexing.html#returning-a-view-versus-a-copy\n",
      "  samples_final['conditioned_on'] = f\"{conditioning_feature_to_use}={value}\"\n"
     ]
    },
    {
     "name": "stdout",
     "output_type": "stream",
     "text": [
      "Warning: Only 483 samples generated for education-num_binned=(10.0, 11.0] after 10 attempts.\n",
      "Generating synthetic data conditioned on education-num_binned = (3.0, 4.0]\n"
     ]
    },
    {
     "name": "stderr",
     "output_type": "stream",
     "text": [
      "/tmp/ipykernel_24173/3518931779.py:37: SettingWithCopyWarning: \n",
      "A value is trying to be set on a copy of a slice from a DataFrame.\n",
      "Try using .loc[row_indexer,col_indexer] = value instead\n",
      "\n",
      "See the caveats in the documentation: https://pandas.pydata.org/pandas-docs/stable/user_guide/indexing.html#returning-a-view-versus-a-copy\n",
      "  samples_final['conditioned_on'] = f\"{conditioning_feature_to_use}={value}\"\n",
      "/tmp/ipykernel_24173/3518931779.py:37: SettingWithCopyWarning: \n",
      "A value is trying to be set on a copy of a slice from a DataFrame.\n",
      "Try using .loc[row_indexer,col_indexer] = value instead\n",
      "\n",
      "See the caveats in the documentation: https://pandas.pydata.org/pandas-docs/stable/user_guide/indexing.html#returning-a-view-versus-a-copy\n",
      "  samples_final['conditioned_on'] = f\"{conditioning_feature_to_use}={value}\"\n"
     ]
    },
    {
     "name": "stdout",
     "output_type": "stream",
     "text": [
      "Generating synthetic data conditioned on education-num_binned = (15.0, 16.0]\n",
      "Warning: Only 208 samples generated for education-num_binned=(15.0, 16.0] after 10 attempts.\n",
      "Generating synthetic data conditioned on education-num_binned = (14.0, 15.0]\n"
     ]
    },
    {
     "name": "stderr",
     "output_type": "stream",
     "text": [
      "/tmp/ipykernel_24173/3518931779.py:37: SettingWithCopyWarning: \n",
      "A value is trying to be set on a copy of a slice from a DataFrame.\n",
      "Try using .loc[row_indexer,col_indexer] = value instead\n",
      "\n",
      "See the caveats in the documentation: https://pandas.pydata.org/pandas-docs/stable/user_guide/indexing.html#returning-a-view-versus-a-copy\n",
      "  samples_final['conditioned_on'] = f\"{conditioning_feature_to_use}={value}\"\n"
     ]
    },
    {
     "name": "stdout",
     "output_type": "stream",
     "text": [
      "Warning: Only 210 samples generated for education-num_binned=(14.0, 15.0] after 10 attempts.\n",
      "Generating synthetic data conditioned on education-num_binned = (0.999, 3.0]\n"
     ]
    },
    {
     "name": "stderr",
     "output_type": "stream",
     "text": [
      "/tmp/ipykernel_24173/3518931779.py:37: SettingWithCopyWarning: \n",
      "A value is trying to be set on a copy of a slice from a DataFrame.\n",
      "Try using .loc[row_indexer,col_indexer] = value instead\n",
      "\n",
      "See the caveats in the documentation: https://pandas.pydata.org/pandas-docs/stable/user_guide/indexing.html#returning-a-view-versus-a-copy\n",
      "  samples_final['conditioned_on'] = f\"{conditioning_feature_to_use}={value}\"\n"
     ]
    },
    {
     "name": "stdout",
     "output_type": "stream",
     "text": [
      "Warning: Only 275 samples generated for education-num_binned=(0.999, 3.0] after 10 attempts.\n",
      "Generating synthetic data conditioned on education-num_binned = (5.0, 6.0]\n"
     ]
    },
    {
     "name": "stderr",
     "output_type": "stream",
     "text": [
      "/tmp/ipykernel_24173/3518931779.py:37: SettingWithCopyWarning: \n",
      "A value is trying to be set on a copy of a slice from a DataFrame.\n",
      "Try using .loc[row_indexer,col_indexer] = value instead\n",
      "\n",
      "See the caveats in the documentation: https://pandas.pydata.org/pandas-docs/stable/user_guide/indexing.html#returning-a-view-versus-a-copy\n",
      "  samples_final['conditioned_on'] = f\"{conditioning_feature_to_use}={value}\"\n"
     ]
    },
    {
     "name": "stdout",
     "output_type": "stream",
     "text": [
      "Warning: Only 165 samples generated for education-num_binned=(5.0, 6.0] after 10 attempts.\n",
      "Generating synthetic data conditioned on education-num_binned = (7.0, 8.0]\n"
     ]
    },
    {
     "name": "stderr",
     "output_type": "stream",
     "text": [
      "/tmp/ipykernel_24173/3518931779.py:37: SettingWithCopyWarning: \n",
      "A value is trying to be set on a copy of a slice from a DataFrame.\n",
      "Try using .loc[row_indexer,col_indexer] = value instead\n",
      "\n",
      "See the caveats in the documentation: https://pandas.pydata.org/pandas-docs/stable/user_guide/indexing.html#returning-a-view-versus-a-copy\n",
      "  samples_final['conditioned_on'] = f\"{conditioning_feature_to_use}={value}\"\n"
     ]
    },
    {
     "name": "stdout",
     "output_type": "stream",
     "text": [
      "Warning: Only 167 samples generated for education-num_binned=(7.0, 8.0] after 10 attempts.\n",
      "Using 1 bins for feature 'capital-loss' based on Freedman-Diaconis rule.\n",
      "Generating synthetic data conditioned on capital-loss_binned = (-0.001, 4356.0]\n"
     ]
    },
    {
     "name": "stderr",
     "output_type": "stream",
     "text": [
      "/tmp/ipykernel_24173/3518931779.py:37: SettingWithCopyWarning: \n",
      "A value is trying to be set on a copy of a slice from a DataFrame.\n",
      "Try using .loc[row_indexer,col_indexer] = value instead\n",
      "\n",
      "See the caveats in the documentation: https://pandas.pydata.org/pandas-docs/stable/user_guide/indexing.html#returning-a-view-versus-a-copy\n",
      "  samples_final['conditioned_on'] = f\"{conditioning_feature_to_use}={value}\"\n",
      "/tmp/ipykernel_24173/3518931779.py:37: SettingWithCopyWarning: \n",
      "A value is trying to be set on a copy of a slice from a DataFrame.\n",
      "Try using .loc[row_indexer,col_indexer] = value instead\n",
      "\n",
      "See the caveats in the documentation: https://pandas.pydata.org/pandas-docs/stable/user_guide/indexing.html#returning-a-view-versus-a-copy\n",
      "  samples_final['conditioned_on'] = f\"{conditioning_feature_to_use}={value}\"\n"
     ]
    }
   ],
   "source": [
    "synthetic_datasets = []\n",
    "\n",
    "for feature in conditioning_features:\n",
    "    if np.issubdtype(df[feature].dtype, np.number):\n",
    "        optimal_bins = freedman_diaconis_bins(df[feature])\n",
    "        print(f\"Using {optimal_bins} bins for feature '{feature}' based on Freedman-Diaconis rule.\")\n",
    "        \n",
    "        df[feature + '_binned'], bins = pd.qcut(df[feature], q=optimal_bins, retbins=True, duplicates='drop')\n",
    "        conditioning_feature_to_use = feature + '_binned'\n",
    "    else:\n",
    "        conditioning_feature_to_use = feature\n",
    "    \n",
    "    unique_values = df[conditioning_feature_to_use].dropna().unique()\n",
    "    \n",
    "    for value in unique_values:\n",
    "        print(f\"Generating synthetic data conditioned on {conditioning_feature_to_use} = {value}\")\n",
    "        \n",
    "        samples_collected = pd.DataFrame()\n",
    "        attempts = 0\n",
    "        max_attempts = 10\n",
    "        \n",
    "        while len(samples_collected) < 500 and attempts < max_attempts:\n",
    "            samples_batch = model.sample(1000)\n",
    "            \n",
    "            if np.issubdtype(df[feature].dtype, np.number):\n",
    "                samples_batch[feature + '_binned'] = pd.cut(samples_batch[feature], bins=bins, include_lowest=True)\n",
    "            \n",
    "            filtered_batch = samples_batch[samples_batch[conditioning_feature_to_use] == value]\n",
    "            \n",
    "            samples_collected = pd.concat([samples_collected, filtered_batch], ignore_index=True)\n",
    "            attempts += 1\n",
    "        \n",
    "        if len(samples_collected) < 500:\n",
    "            print(f\"Warning: Only {len(samples_collected)} samples generated for {conditioning_feature_to_use}={value} after {max_attempts} attempts.\")\n",
    "        \n",
    "        samples_final = samples_collected.head(500)\n",
    "        samples_final['conditioned_on'] = f\"{conditioning_feature_to_use}={value}\"\n",
    "        \n",
    "        synthetic_datasets.append(samples_final)\n"
   ]
  },
  {
   "cell_type": "code",
   "execution_count": 15,
   "id": "63b28117-4614-4bbb-bfd4-d6a73b36368a",
   "metadata": {
    "execution": {
     "iopub.execute_input": "2025-07-07T07:20:18.837144Z",
     "iopub.status.busy": "2025-07-07T07:20:18.836410Z",
     "iopub.status.idle": "2025-07-07T07:20:19.207460Z",
     "shell.execute_reply": "2025-07-07T07:20:19.206568Z",
     "shell.execute_reply.started": "2025-07-07T07:20:18.837116Z"
    }
   },
   "outputs": [
    {
     "name": "stdout",
     "output_type": "stream",
     "text": [
      "✅ SYNTITAN conditioned synthetic data saved successfully. File: synthetic_adult_ctgan_conditioned.csv\n"
     ]
    }
   ],
   "source": [
    "# Combine all conditioned synthetic data\n",
    "synthetic_combined = pd.concat(synthetic_datasets, ignore_index=True)\n",
    "\n",
    "# Save to processed data folder\n",
    "synthetic_combined.to_csv('../data/processed/synthetic_adult_ctgan_conditioned.csv', index=False)\n",
    "\n",
    "print(\"✅ SYNTITAN conditioned synthetic data saved successfully. File: synthetic_adult_ctgan_conditioned.csv\")\n"
   ]
  },
  {
   "cell_type": "code",
   "execution_count": 17,
   "id": "0eafd107-5aec-4aa1-bfa6-808f59f8d8cc",
   "metadata": {
    "execution": {
     "iopub.execute_input": "2025-07-07T07:33:17.956680Z",
     "iopub.status.busy": "2025-07-07T07:33:17.955869Z",
     "iopub.status.idle": "2025-07-07T07:33:18.163683Z",
     "shell.execute_reply": "2025-07-07T07:33:18.163003Z",
     "shell.execute_reply.started": "2025-07-07T07:33:17.956649Z"
    }
   },
   "outputs": [
    {
     "name": "stdout",
     "output_type": "stream",
     "text": [
      "Applying conditional constraint: If education level is PhD, age must be at least 25.\n",
      "Applying range constraint on hours-per-week: 0.0 to 60.0\n",
      "⚠️ Skipping relationship constraint (not implemented yet): Income should be higher for those with more education and higher work hours.\n",
      "✅ Logical constraints enforcement completed.\n",
      "✅ Saved as synthetic_adult_ctgan_conditioned_logical.csv\n"
     ]
    }
   ],
   "source": [
    "# Load conditioned synthetic data\n",
    "synthetic_df = pd.read_csv('../data/processed/synthetic_adult_ctgan_conditioned.csv')\n",
    "\n",
    "# Parse logical constraints from LLM output JSON\n",
    "logical_constraints = llm_output['logical_constraints']\n",
    "\n",
    "# Apply each constraint\n",
    "for constraint in logical_constraints:\n",
    "    rule_type = constraint['type']\n",
    "    features = constraint['features_involved']\n",
    "    \n",
    "    if rule_type == 'range':\n",
    "        # Robust extraction of min and max values using regex\n",
    "        nums = re.findall(r\"[-+]?\\d*\\.\\d+|\\d+\", constraint['rule'])\n",
    "        if len(nums) >= 2:\n",
    "            min_val = float(nums[0])\n",
    "            max_val = float(nums[1])\n",
    "            feature = features[0]\n",
    "            \n",
    "            print(f\"Applying range constraint on {feature}: {min_val} to {max_val}\")\n",
    "            \n",
    "            synthetic_df = synthetic_df[\n",
    "                (synthetic_df[feature] >= min_val) &\n",
    "                (synthetic_df[feature] <= max_val)\n",
    "            ]\n",
    "        else:\n",
    "            print(f\"⚠️ Warning: Could not extract numeric min/max from rule: {constraint['rule']}\")\n",
    "    \n",
    "    elif rule_type == 'conditional':\n",
    "        # Simple hardcoded example for education PhD constraint\n",
    "        if 'education' in features and 'age' in features:\n",
    "            print(f\"Applying conditional constraint: {constraint['rule']}\")\n",
    "            synthetic_df = synthetic_df[\n",
    "                ~((synthetic_df['education'] == 'PhD') & (synthetic_df['age'] < 25))\n",
    "            ]\n",
    "        else:\n",
    "            print(f\"⚠️ Warning: Conditional constraint logic not implemented for: {constraint['rule']}\")\n",
    "    \n",
    "    elif rule_type == 'relationship':\n",
    "        # Placeholder for relationship constraints\n",
    "        print(f\"⚠️ Skipping relationship constraint (not implemented yet): {constraint['rule']}\")\n",
    "\n",
    "print(\"✅ Logical constraints enforcement completed.\")\n",
    "\n",
    "# Save final logical constraints enforced dataset\n",
    "synthetic_df.to_csv('../data/processed/synthetic_adult_ctgan_conditioned_logical.csv', index=False)\n",
    "print(\"✅ Saved as synthetic_adult_ctgan_conditioned_logical.csv\")\n"
   ]
  },
  {
   "cell_type": "code",
   "execution_count": null,
   "id": "d33369c3-dd27-4092-8106-2e76db9a1377",
   "metadata": {},
   "outputs": [],
   "source": []
  },
  {
   "cell_type": "code",
   "execution_count": 18,
   "id": "255e249b-da87-4ad6-ad6f-d25a3039a2c8",
   "metadata": {
    "execution": {
     "iopub.execute_input": "2025-07-07T07:36:04.921819Z",
     "iopub.status.busy": "2025-07-07T07:36:04.920805Z",
     "iopub.status.idle": "2025-07-07T07:36:05.103893Z",
     "shell.execute_reply": "2025-07-07T07:36:05.103127Z",
     "shell.execute_reply.started": "2025-07-07T07:36:04.921788Z"
    }
   },
   "outputs": [],
   "source": [
    "real_df = df.copy()  # Assuming 'df' is your real dataset already loaded\n",
    "\n",
    "ctgan_df = pd.read_csv('../data/processed/synthetic_adult_ctgan.csv')\n",
    "syntitan1_df = pd.read_csv('../data/processed/synthetic_adult_ctgan_conditioned.csv')\n",
    "syntitan2_df = pd.read_csv('../data/processed/synthetic_adult_ctgan_conditioned_logical.csv')\n"
   ]
  },
  {
   "cell_type": "code",
   "execution_count": 19,
   "id": "dc4e068f-51e4-427e-9ea8-9a7e422998d0",
   "metadata": {
    "execution": {
     "iopub.execute_input": "2025-07-07T07:37:36.927662Z",
     "iopub.status.busy": "2025-07-07T07:37:36.927269Z",
     "iopub.status.idle": "2025-07-07T07:37:36.933306Z",
     "shell.execute_reply": "2025-07-07T07:37:36.932430Z",
     "shell.execute_reply.started": "2025-07-07T07:37:36.927636Z"
    }
   },
   "outputs": [],
   "source": [
    "from scipy.stats import ks_2samp\n",
    "from scipy.spatial.distance import jensenshannon\n",
    "\n",
    "def evaluate_ks(real, synthetic, numeric_features):\n",
    "    results = {}\n",
    "    for col in numeric_features:\n",
    "        ks_stat, ks_p = ks_2samp(real[col].dropna(), synthetic[col].dropna())\n",
    "        results[col] = {'ks_statistic': ks_stat, 'p_value': ks_p}\n",
    "    return results\n",
    "\n",
    "def evaluate_js(real, synthetic, categorical_features):\n",
    "    results = {}\n",
    "    for col in categorical_features:\n",
    "        real_dist = real[col].value_counts(normalize=True)\n",
    "        synth_dist = synthetic[col].value_counts(normalize=True)\n",
    "        combined_index = real_dist.index.union(synth_dist.index)\n",
    "        js = jensenshannon(real_dist.reindex(combined_index, fill_value=0),\n",
    "                           synth_dist.reindex(combined_index, fill_value=0))\n",
    "        results[col] = js\n",
    "    return results"
   ]
  },
  {
   "cell_type": "code",
   "execution_count": 20,
   "id": "0a7fc494-3927-450c-be55-a69fba744955",
   "metadata": {
    "execution": {
     "iopub.execute_input": "2025-07-07T07:37:59.464238Z",
     "iopub.status.busy": "2025-07-07T07:37:59.463674Z",
     "iopub.status.idle": "2025-07-07T07:37:59.470337Z",
     "shell.execute_reply": "2025-07-07T07:37:59.469623Z",
     "shell.execute_reply.started": "2025-07-07T07:37:59.464214Z"
    }
   },
   "outputs": [],
   "source": [
    "numeric_features = real_df.select_dtypes(include='number').columns.tolist()\n",
    "categorical_features = real_df.select_dtypes(include='object').columns.tolist()"
   ]
  },
  {
   "cell_type": "code",
   "execution_count": 21,
   "id": "68dc5ee6-ffdd-48d9-9c9b-0a886a71d4f2",
   "metadata": {
    "execution": {
     "iopub.execute_input": "2025-07-07T07:38:46.405995Z",
     "iopub.status.busy": "2025-07-07T07:38:46.405212Z",
     "iopub.status.idle": "2025-07-07T07:38:46.766115Z",
     "shell.execute_reply": "2025-07-07T07:38:46.765358Z",
     "shell.execute_reply.started": "2025-07-07T07:38:46.405965Z"
    }
   },
   "outputs": [
    {
     "name": "stdout",
     "output_type": "stream",
     "text": [
      "🔷 Evaluating CTGAN Baseline\n",
      "🔷 Evaluating Syntitan1 (Conditioned)\n",
      "🔷 Evaluating Syntitan2 (Conditioned + Logical Constraints)\n"
     ]
    }
   ],
   "source": [
    "print(\"🔷 Evaluating CTGAN Baseline\")\n",
    "ctgan_ks = evaluate_ks(real_df, ctgan_df, numeric_features)\n",
    "ctgan_js = evaluate_js(real_df, ctgan_df, categorical_features)\n",
    "\n",
    "print(\"🔷 Evaluating Syntitan1 (Conditioned)\")\n",
    "syntitan1_ks = evaluate_ks(real_df, syntitan1_df, numeric_features)\n",
    "syntitan1_js = evaluate_js(real_df, syntitan1_df, categorical_features)\n",
    "\n",
    "print(\"🔷 Evaluating Syntitan2 (Conditioned + Logical Constraints)\")\n",
    "syntitan2_ks = evaluate_ks(real_df, syntitan2_df, numeric_features)\n",
    "syntitan2_js = evaluate_js(real_df, syntitan2_df, categorical_features)\n"
   ]
  },
  {
   "cell_type": "code",
   "execution_count": 22,
   "id": "03501446-ef9c-417a-86f7-9df6aad3d6a6",
   "metadata": {
    "execution": {
     "iopub.execute_input": "2025-07-07T07:39:18.051492Z",
     "iopub.status.busy": "2025-07-07T07:39:18.050936Z",
     "iopub.status.idle": "2025-07-07T07:39:18.058403Z",
     "shell.execute_reply": "2025-07-07T07:39:18.057562Z",
     "shell.execute_reply.started": "2025-07-07T07:39:18.051460Z"
    }
   },
   "outputs": [
    {
     "name": "stdout",
     "output_type": "stream",
     "text": [
      "✅ CTGAN KS Test Results\n",
      "{   'age': {   'ks_statistic': 0.08921716163508492,\n",
      "               'p_value': 3.323152194014496e-113},\n",
      "    'capital-gain': {'ks_statistic': 0.6892294462700777, 'p_value': 0.0},\n",
      "    'capital-loss': {'ks_statistic': 0.24916310924111668, 'p_value': 0.0},\n",
      "    'education-num': {   'ks_statistic': 0.04683517090998432,\n",
      "                         'p_value': 1.7980783711575165e-31},\n",
      "    'fnlwgt': {   'ks_statistic': 0.0646171800620374,\n",
      "                  'p_value': 1.5335662880299151e-59},\n",
      "    'hours-per-week': {   'ks_statistic': 0.11160590890943156,\n",
      "                          'p_value': 4.428482961068991e-177}}\n",
      "\n",
      "✅ CTGAN JS Divergence Results\n",
      "{   'education': 0.06646422301732209,\n",
      "    'income': 0.03982275980369237,\n",
      "    'marital-status': 0.07725520789457134,\n",
      "    'native-country': 0.12390046422403223,\n",
      "    'occupation': 0.14555593984399764,\n",
      "    'race': 0.12798613750765028,\n",
      "    'relationship': 0.06659978172144149,\n",
      "    'sex': 0.0006920970911365942,\n",
      "    'workclass': 0.06109181848677562}\n",
      "\n",
      "✅ Syntitan1 KS Test Results\n",
      "{   'age': {   'ks_statistic': 0.08306015092164415,\n",
      "               'p_value': 4.4877010288409593e-76},\n",
      "    'capital-gain': {'ks_statistic': 0.6651262343727198, 'p_value': 0.0},\n",
      "    'capital-loss': {'ks_statistic': 0.2343240745244929, 'p_value': 0.0},\n",
      "    'education-num': {   'ks_statistic': 0.0821578559252516,\n",
      "                         'p_value': 1.9448108132526102e-74},\n",
      "    'fnlwgt': {   'ks_statistic': 0.07321053382441536,\n",
      "                  'p_value': 3.52749194347385e-59},\n",
      "    'hours-per-week': {   'ks_statistic': 0.11628302208839308,\n",
      "                          'p_value': 6.687092913236498e-149}}\n",
      "\n",
      "✅ Syntitan1 JS Divergence Results\n",
      "{   'education': 0.11004204791141571,\n",
      "    'income': 0.043805332065043175,\n",
      "    'marital-status': 0.08258018521365788,\n",
      "    'native-country': 0.12813581828824971,\n",
      "    'occupation': 0.15022465476819455,\n",
      "    'race': 0.12160334211342876,\n",
      "    'relationship': 0.07031618711733538,\n",
      "    'sex': 0.009997461353573265,\n",
      "    'workclass': 0.058775966515317746}\n",
      "\n",
      "✅ Syntitan2 KS Test Results\n",
      "{   'age': {   'ks_statistic': 0.07151464703968785,\n",
      "               'p_value': 3.800318031279025e-54},\n",
      "    'capital-gain': {'ks_statistic': 0.6753855773238849, 'p_value': 0.0},\n",
      "    'capital-loss': {'ks_statistic': 0.23791162984576908, 'p_value': 0.0},\n",
      "    'education-num': {   'ks_statistic': 0.08770375182814916,\n",
      "                         'p_value': 2.909498657198827e-81},\n",
      "    'fnlwgt': {   'ks_statistic': 0.06794931689377087,\n",
      "                  'p_value': 6.41489107423284e-49},\n",
      "    'hours-per-week': {   'ks_statistic': 0.14038754227659966,\n",
      "                          'p_value': 4.3690327615278975e-208}}\n",
      "\n",
      "✅ Syntitan2 JS Divergence Results\n",
      "{   'education': 0.10158668378800804,\n",
      "    'income': 0.02974690955729655,\n",
      "    'marital-status': 0.0897068547574518,\n",
      "    'native-country': 0.12911151026955486,\n",
      "    'occupation': 0.15166837488927537,\n",
      "    'race': 0.1251254815496275,\n",
      "    'relationship': 0.08317416227564618,\n",
      "    'sex': 0.020369731260331626,\n",
      "    'workclass': 0.0665035305160688}\n"
     ]
    }
   ],
   "source": [
    "import pprint\n",
    "\n",
    "pp = pprint.PrettyPrinter(indent=4)\n",
    "\n",
    "print(\"✅ CTGAN KS Test Results\")\n",
    "pp.pprint(ctgan_ks)\n",
    "\n",
    "print(\"\\n✅ CTGAN JS Divergence Results\")\n",
    "pp.pprint(ctgan_js)\n",
    "\n",
    "print(\"\\n✅ Syntitan1 KS Test Results\")\n",
    "pp.pprint(syntitan1_ks)\n",
    "\n",
    "print(\"\\n✅ Syntitan1 JS Divergence Results\")\n",
    "pp.pprint(syntitan1_js)\n",
    "\n",
    "print(\"\\n✅ Syntitan2 KS Test Results\")\n",
    "pp.pprint(syntitan2_ks)\n",
    "\n",
    "print(\"\\n✅ Syntitan2 JS Divergence Results\")\n",
    "pp.pprint(syntitan2_js)\n"
   ]
  },
  {
   "cell_type": "code",
   "execution_count": 23,
   "id": "b7aed1d2-dc06-487e-8601-0c9ef53d30e9",
   "metadata": {
    "execution": {
     "iopub.execute_input": "2025-07-07T07:43:00.448731Z",
     "iopub.status.busy": "2025-07-07T07:43:00.448390Z",
     "iopub.status.idle": "2025-07-07T07:43:00.461952Z",
     "shell.execute_reply": "2025-07-07T07:43:00.461311Z",
     "shell.execute_reply.started": "2025-07-07T07:43:00.448707Z"
    }
   },
   "outputs": [
    {
     "name": "stdout",
     "output_type": "stream",
     "text": [
      "🔷 KS Test Summary Table\n"
     ]
    },
    {
     "data": {
      "text/html": [
       "<div>\n",
       "<style scoped>\n",
       "    .dataframe tbody tr th:only-of-type {\n",
       "        vertical-align: middle;\n",
       "    }\n",
       "\n",
       "    .dataframe tbody tr th {\n",
       "        vertical-align: top;\n",
       "    }\n",
       "\n",
       "    .dataframe thead th {\n",
       "        text-align: right;\n",
       "    }\n",
       "</style>\n",
       "<table border=\"1\" class=\"dataframe\">\n",
       "  <thead>\n",
       "    <tr style=\"text-align: right;\">\n",
       "      <th></th>\n",
       "      <th>Feature</th>\n",
       "      <th>CTGAN KS Statistic</th>\n",
       "      <th>Syntitan1 KS Statistic</th>\n",
       "      <th>Syntitan2 KS Statistic</th>\n",
       "    </tr>\n",
       "  </thead>\n",
       "  <tbody>\n",
       "    <tr>\n",
       "      <th>0</th>\n",
       "      <td>age</td>\n",
       "      <td>0.089217</td>\n",
       "      <td>0.083060</td>\n",
       "      <td>0.071515</td>\n",
       "    </tr>\n",
       "    <tr>\n",
       "      <th>1</th>\n",
       "      <td>capital-gain</td>\n",
       "      <td>0.689229</td>\n",
       "      <td>0.665126</td>\n",
       "      <td>0.675386</td>\n",
       "    </tr>\n",
       "    <tr>\n",
       "      <th>2</th>\n",
       "      <td>capital-loss</td>\n",
       "      <td>0.249163</td>\n",
       "      <td>0.234324</td>\n",
       "      <td>0.237912</td>\n",
       "    </tr>\n",
       "    <tr>\n",
       "      <th>3</th>\n",
       "      <td>education-num</td>\n",
       "      <td>0.046835</td>\n",
       "      <td>0.082158</td>\n",
       "      <td>0.087704</td>\n",
       "    </tr>\n",
       "    <tr>\n",
       "      <th>4</th>\n",
       "      <td>fnlwgt</td>\n",
       "      <td>0.064617</td>\n",
       "      <td>0.073211</td>\n",
       "      <td>0.067949</td>\n",
       "    </tr>\n",
       "    <tr>\n",
       "      <th>5</th>\n",
       "      <td>hours-per-week</td>\n",
       "      <td>0.111606</td>\n",
       "      <td>0.116283</td>\n",
       "      <td>0.140388</td>\n",
       "    </tr>\n",
       "  </tbody>\n",
       "</table>\n",
       "</div>"
      ],
      "text/plain": [
       "          Feature  CTGAN KS Statistic  Syntitan1 KS Statistic  \\\n",
       "0             age            0.089217                0.083060   \n",
       "1    capital-gain            0.689229                0.665126   \n",
       "2    capital-loss            0.249163                0.234324   \n",
       "3   education-num            0.046835                0.082158   \n",
       "4          fnlwgt            0.064617                0.073211   \n",
       "5  hours-per-week            0.111606                0.116283   \n",
       "\n",
       "   Syntitan2 KS Statistic  \n",
       "0                0.071515  \n",
       "1                0.675386  \n",
       "2                0.237912  \n",
       "3                0.087704  \n",
       "4                0.067949  \n",
       "5                0.140388  "
      ]
     },
     "metadata": {},
     "output_type": "display_data"
    }
   ],
   "source": [
    "# Prepare KS data\n",
    "ks_summary = []\n",
    "\n",
    "for feature in numeric_features:\n",
    "    ks_summary.append({\n",
    "        'Feature': feature,\n",
    "        'CTGAN KS Statistic': ctgan_ks[feature]['ks_statistic'],\n",
    "        'Syntitan1 KS Statistic': syntitan1_ks[feature]['ks_statistic'],\n",
    "        'Syntitan2 KS Statistic': syntitan2_ks[feature]['ks_statistic']\n",
    "    })\n",
    "\n",
    "ks_df = pd.DataFrame(ks_summary)\n",
    "ks_df = ks_df.sort_values(by='Feature').reset_index(drop=True)\n",
    "\n",
    "print(\"🔷 KS Test Summary Table\")\n",
    "display(ks_df)\n"
   ]
  },
  {
   "cell_type": "code",
   "execution_count": 24,
   "id": "ce27f791-4314-474b-95de-4a11233c3f49",
   "metadata": {
    "execution": {
     "iopub.execute_input": "2025-07-07T07:43:12.717747Z",
     "iopub.status.busy": "2025-07-07T07:43:12.717264Z",
     "iopub.status.idle": "2025-07-07T07:43:12.730529Z",
     "shell.execute_reply": "2025-07-07T07:43:12.729771Z",
     "shell.execute_reply.started": "2025-07-07T07:43:12.717716Z"
    }
   },
   "outputs": [
    {
     "name": "stdout",
     "output_type": "stream",
     "text": [
      "🔷 JS Divergence Summary Table\n"
     ]
    },
    {
     "data": {
      "text/html": [
       "<div>\n",
       "<style scoped>\n",
       "    .dataframe tbody tr th:only-of-type {\n",
       "        vertical-align: middle;\n",
       "    }\n",
       "\n",
       "    .dataframe tbody tr th {\n",
       "        vertical-align: top;\n",
       "    }\n",
       "\n",
       "    .dataframe thead th {\n",
       "        text-align: right;\n",
       "    }\n",
       "</style>\n",
       "<table border=\"1\" class=\"dataframe\">\n",
       "  <thead>\n",
       "    <tr style=\"text-align: right;\">\n",
       "      <th></th>\n",
       "      <th>Feature</th>\n",
       "      <th>CTGAN JS Divergence</th>\n",
       "      <th>Syntitan1 JS Divergence</th>\n",
       "      <th>Syntitan2 JS Divergence</th>\n",
       "    </tr>\n",
       "  </thead>\n",
       "  <tbody>\n",
       "    <tr>\n",
       "      <th>0</th>\n",
       "      <td>education</td>\n",
       "      <td>0.066464</td>\n",
       "      <td>0.110042</td>\n",
       "      <td>0.101587</td>\n",
       "    </tr>\n",
       "    <tr>\n",
       "      <th>1</th>\n",
       "      <td>income</td>\n",
       "      <td>0.039823</td>\n",
       "      <td>0.043805</td>\n",
       "      <td>0.029747</td>\n",
       "    </tr>\n",
       "    <tr>\n",
       "      <th>2</th>\n",
       "      <td>marital-status</td>\n",
       "      <td>0.077255</td>\n",
       "      <td>0.082580</td>\n",
       "      <td>0.089707</td>\n",
       "    </tr>\n",
       "    <tr>\n",
       "      <th>3</th>\n",
       "      <td>native-country</td>\n",
       "      <td>0.123900</td>\n",
       "      <td>0.128136</td>\n",
       "      <td>0.129112</td>\n",
       "    </tr>\n",
       "    <tr>\n",
       "      <th>4</th>\n",
       "      <td>occupation</td>\n",
       "      <td>0.145556</td>\n",
       "      <td>0.150225</td>\n",
       "      <td>0.151668</td>\n",
       "    </tr>\n",
       "    <tr>\n",
       "      <th>5</th>\n",
       "      <td>race</td>\n",
       "      <td>0.127986</td>\n",
       "      <td>0.121603</td>\n",
       "      <td>0.125125</td>\n",
       "    </tr>\n",
       "    <tr>\n",
       "      <th>6</th>\n",
       "      <td>relationship</td>\n",
       "      <td>0.066600</td>\n",
       "      <td>0.070316</td>\n",
       "      <td>0.083174</td>\n",
       "    </tr>\n",
       "    <tr>\n",
       "      <th>7</th>\n",
       "      <td>sex</td>\n",
       "      <td>0.000692</td>\n",
       "      <td>0.009997</td>\n",
       "      <td>0.020370</td>\n",
       "    </tr>\n",
       "    <tr>\n",
       "      <th>8</th>\n",
       "      <td>workclass</td>\n",
       "      <td>0.061092</td>\n",
       "      <td>0.058776</td>\n",
       "      <td>0.066504</td>\n",
       "    </tr>\n",
       "  </tbody>\n",
       "</table>\n",
       "</div>"
      ],
      "text/plain": [
       "          Feature  CTGAN JS Divergence  Syntitan1 JS Divergence  \\\n",
       "0       education             0.066464                 0.110042   \n",
       "1          income             0.039823                 0.043805   \n",
       "2  marital-status             0.077255                 0.082580   \n",
       "3  native-country             0.123900                 0.128136   \n",
       "4      occupation             0.145556                 0.150225   \n",
       "5            race             0.127986                 0.121603   \n",
       "6    relationship             0.066600                 0.070316   \n",
       "7             sex             0.000692                 0.009997   \n",
       "8       workclass             0.061092                 0.058776   \n",
       "\n",
       "   Syntitan2 JS Divergence  \n",
       "0                 0.101587  \n",
       "1                 0.029747  \n",
       "2                 0.089707  \n",
       "3                 0.129112  \n",
       "4                 0.151668  \n",
       "5                 0.125125  \n",
       "6                 0.083174  \n",
       "7                 0.020370  \n",
       "8                 0.066504  "
      ]
     },
     "metadata": {},
     "output_type": "display_data"
    }
   ],
   "source": [
    "# Prepare JS Divergence data\n",
    "js_summary = []\n",
    "\n",
    "for feature in categorical_features:\n",
    "    js_summary.append({\n",
    "        'Feature': feature,\n",
    "        'CTGAN JS Divergence': ctgan_js[feature],\n",
    "        'Syntitan1 JS Divergence': syntitan1_js[feature],\n",
    "        'Syntitan2 JS Divergence': syntitan2_js[feature]\n",
    "    })\n",
    "\n",
    "js_df = pd.DataFrame(js_summary)\n",
    "js_df = js_df.sort_values(by='Feature').reset_index(drop=True)\n",
    "\n",
    "print(\"🔷 JS Divergence Summary Table\")\n",
    "display(js_df)\n"
   ]
  },
  {
   "cell_type": "code",
   "execution_count": 25,
   "id": "ab453b72-6b32-4476-b0c7-5f208413e087",
   "metadata": {
    "execution": {
     "iopub.execute_input": "2025-07-07T20:27:47.233604Z",
     "iopub.status.busy": "2025-07-07T20:27:47.232880Z",
     "iopub.status.idle": "2025-07-07T20:27:47.239309Z",
     "shell.execute_reply": "2025-07-07T20:27:47.238578Z",
     "shell.execute_reply.started": "2025-07-07T20:27:47.233572Z"
    }
   },
   "outputs": [],
   "source": [
    "def calculate_logical_violation_rate(df, logical_constraints):\n",
    "    total_rows = len(df)\n",
    "    violating_rows = pd.Series(False, index=df.index)\n",
    "\n",
    "    for constraint in logical_constraints:\n",
    "        rule_type = constraint['type']\n",
    "        features = constraint['features_involved']\n",
    "        \n",
    "        if rule_type == 'range':\n",
    "            # Robust extraction of min and max using regex\n",
    "            import re\n",
    "            nums = re.findall(r\"[-+]?\\d*\\.\\d+|\\d+\", constraint['rule'])\n",
    "            if len(nums) >= 2:\n",
    "                min_val = float(nums[0])\n",
    "                max_val = float(nums[1])\n",
    "                feature = features[0]\n",
    "                violation = ~df[feature].between(min_val, max_val)\n",
    "                violating_rows = violating_rows | violation\n",
    "        \n",
    "        elif rule_type == 'conditional':\n",
    "            if 'education' in features and 'age' in features:\n",
    "                violation = (df['education'] == 'PhD') & (df['age'] < 25)\n",
    "                violating_rows = violating_rows | violation\n",
    "        \n",
    "        # Relationship constraints skipped for now\n",
    "    \n",
    "    violation_rate = violating_rows.sum() / total_rows\n",
    "    return violation_rate"
   ]
  },
  {
   "cell_type": "code",
   "execution_count": 26,
   "id": "9717bb60-0177-42bb-aa24-eb641c6bda55",
   "metadata": {
    "execution": {
     "iopub.execute_input": "2025-07-07T20:28:12.436187Z",
     "iopub.status.busy": "2025-07-07T20:28:12.435328Z",
     "iopub.status.idle": "2025-07-07T20:28:12.440959Z",
     "shell.execute_reply": "2025-07-07T20:28:12.439903Z",
     "shell.execute_reply.started": "2025-07-07T20:28:12.436147Z"
    }
   },
   "outputs": [],
   "source": [
    "def calculate_correlation_mae(real_df, synthetic_df, numeric_features):\n",
    "    real_corr = real_df[numeric_features].corr()\n",
    "    synthetic_corr = synthetic_df[numeric_features].corr()\n",
    "    mae = np.mean(np.abs(real_corr - synthetic_corr).fillna(0))\n",
    "    return mae"
   ]
  },
  {
   "cell_type": "code",
   "execution_count": 27,
   "id": "9127784d-a26e-4564-8b74-5b03b3a539d7",
   "metadata": {
    "execution": {
     "iopub.execute_input": "2025-07-07T20:28:31.429843Z",
     "iopub.status.busy": "2025-07-07T20:28:31.429166Z",
     "iopub.status.idle": "2025-07-07T20:28:31.434518Z",
     "shell.execute_reply": "2025-07-07T20:28:31.433661Z",
     "shell.execute_reply.started": "2025-07-07T20:28:31.429809Z"
    }
   },
   "outputs": [],
   "source": [
    "from sklearn.preprocessing import StandardScaler\n",
    "from sklearn.neighbors import NearestNeighbors\n",
    "\n",
    "def calculate_minimum_distance(real_df, synthetic_df, numeric_features):\n",
    "    scaler = StandardScaler()\n",
    "    real_scaled = scaler.fit_transform(real_df[numeric_features].dropna())\n",
    "    synth_scaled = scaler.transform(synthetic_df[numeric_features].dropna())\n",
    "    \n",
    "    nn = NearestNeighbors(n_neighbors=1)\n",
    "    nn.fit(real_scaled)\n",
    "    distances, _ = nn.kneighbors(synth_scaled)\n",
    "    \n",
    "    min_dist = distances.min()\n",
    "    mean_dist = distances.mean()\n",
    "    return min_dist, mean_dist"
   ]
  },
  {
   "cell_type": "code",
   "execution_count": 28,
   "id": "962d3185-e94b-4554-abf7-5f613d138624",
   "metadata": {
    "execution": {
     "iopub.execute_input": "2025-07-07T20:28:50.173352Z",
     "iopub.status.busy": "2025-07-07T20:28:50.172323Z",
     "iopub.status.idle": "2025-07-07T20:28:50.178512Z",
     "shell.execute_reply": "2025-07-07T20:28:50.177490Z",
     "shell.execute_reply.started": "2025-07-07T20:28:50.173317Z"
    }
   },
   "outputs": [],
   "source": [
    "def calculate_rare_category_coverage(real_df, synthetic_df, categorical_features, threshold=0.01):\n",
    "    coverage_scores = {}\n",
    "    \n",
    "    for feature in categorical_features:\n",
    "        real_counts = real_df[feature].value_counts(normalize=True)\n",
    "        rare_categories = real_counts[real_counts < threshold].index.tolist()\n",
    "        \n",
    "        synth_counts = synthetic_df[feature].value_counts()\n",
    "        covered = [cat for cat in rare_categories if cat in synth_counts.index]\n",
    "        \n",
    "        coverage = len(covered) / len(rare_categories) if rare_categories else 1.0\n",
    "        coverage_scores[feature] = coverage\n",
    "    \n",
    "    avg_coverage = np.mean(list(coverage_scores.values()))\n",
    "    return avg_coverage, coverage_scores"
   ]
  },
  {
   "cell_type": "code",
   "execution_count": 29,
   "id": "a07dafe1-9db5-4b64-a005-8abf21d0ac7d",
   "metadata": {
    "execution": {
     "iopub.execute_input": "2025-07-07T20:29:43.801327Z",
     "iopub.status.busy": "2025-07-07T20:29:43.800768Z",
     "iopub.status.idle": "2025-07-07T20:29:47.028769Z",
     "shell.execute_reply": "2025-07-07T20:29:47.027666Z",
     "shell.execute_reply.started": "2025-07-07T20:29:43.801297Z"
    }
   },
   "outputs": [
    {
     "name": "stdout",
     "output_type": "stream",
     "text": [
      "CTGAN Logical Violation Rate: 0.0512\n",
      "Syntitan1 Logical Violation Rate: 0.0664\n",
      "Syntitan2 Logical Violation Rate: 0.0000\n",
      "CTGAN Correlation MAE: 0.0314\n",
      "Syntitan1 Correlation MAE: 0.0378\n",
      "Syntitan2 Correlation MAE: 0.0283\n",
      "CTGAN Privacy (Min Dist, Mean Dist): (0.0001367257404724488, 0.16762662125237177)\n",
      "Syntitan1 Privacy (Min Dist, Mean Dist): (0.00014345365018432238, 0.1951970495941703)\n",
      "Syntitan2 Privacy (Min Dist, Mean Dist): (0.00014345365018432238, 0.17681027527899712)\n",
      "CTGAN Rare Category Coverage: 1.0000\n",
      "Syntitan1 Rare Category Coverage: 1.0000\n",
      "Syntitan2 Rare Category Coverage: 1.0000\n"
     ]
    }
   ],
   "source": [
    "# Logical Violation Rate\n",
    "ctgan_violation = calculate_logical_violation_rate(ctgan_df, logical_constraints)\n",
    "syntitan1_violation = calculate_logical_violation_rate(syntitan1_df, logical_constraints)\n",
    "syntitan2_violation = calculate_logical_violation_rate(syntitan2_df, logical_constraints)\n",
    "\n",
    "print(f\"CTGAN Logical Violation Rate: {ctgan_violation:.4f}\")\n",
    "print(f\"Syntitan1 Logical Violation Rate: {syntitan1_violation:.4f}\")\n",
    "print(f\"Syntitan2 Logical Violation Rate: {syntitan2_violation:.4f}\")\n",
    "\n",
    "# Correlation MAE\n",
    "ctgan_corr_mae = calculate_correlation_mae(real_df, ctgan_df, numeric_features)\n",
    "syntitan1_corr_mae = calculate_correlation_mae(real_df, syntitan1_df, numeric_features)\n",
    "syntitan2_corr_mae = calculate_correlation_mae(real_df, syntitan2_df, numeric_features)\n",
    "\n",
    "print(f\"CTGAN Correlation MAE: {ctgan_corr_mae:.4f}\")\n",
    "print(f\"Syntitan1 Correlation MAE: {syntitan1_corr_mae:.4f}\")\n",
    "print(f\"Syntitan2 Correlation MAE: {syntitan2_corr_mae:.4f}\")\n",
    "\n",
    "# Privacy (Minimum Distance)\n",
    "ctgan_privacy = calculate_minimum_distance(real_df, ctgan_df, numeric_features)\n",
    "syntitan1_privacy = calculate_minimum_distance(real_df, syntitan1_df, numeric_features)\n",
    "syntitan2_privacy = calculate_minimum_distance(real_df, syntitan2_df, numeric_features)\n",
    "\n",
    "print(f\"CTGAN Privacy (Min Dist, Mean Dist): {ctgan_privacy}\")\n",
    "print(f\"Syntitan1 Privacy (Min Dist, Mean Dist): {syntitan1_privacy}\")\n",
    "print(f\"Syntitan2 Privacy (Min Dist, Mean Dist): {syntitan2_privacy}\")\n",
    "\n",
    "# Rare Category Coverage\n",
    "ctgan_coverage, _ = calculate_rare_category_coverage(real_df, ctgan_df, categorical_features)\n",
    "syntitan1_coverage, _ = calculate_rare_category_coverage(real_df, syntitan1_df, categorical_features)\n",
    "syntitan2_coverage, _ = calculate_rare_category_coverage(real_df, syntitan2_df, categorical_features)\n",
    "\n",
    "print(f\"CTGAN Rare Category Coverage: {ctgan_coverage:.4f}\")\n",
    "print(f\"Syntitan1 Rare Category Coverage: {syntitan1_coverage:.4f}\")\n",
    "print(f\"Syntitan2 Rare Category Coverage: {syntitan2_coverage:.4f}\")\n"
   ]
  },
  {
   "cell_type": "code",
   "execution_count": null,
   "id": "607323ce-ee7d-4359-a44e-169c0acc9400",
   "metadata": {},
   "outputs": [],
   "source": []
  }
 ],
 "metadata": {
  "kernelspec": {
   "display_name": "Python 3 (ipykernel)",
   "language": "python",
   "name": "python3"
  },
  "language_info": {
   "codemirror_mode": {
    "name": "ipython",
    "version": 3
   },
   "file_extension": ".py",
   "mimetype": "text/x-python",
   "name": "python",
   "nbconvert_exporter": "python",
   "pygments_lexer": "ipython3",
   "version": "3.12.9"
  }
 },
 "nbformat": 4,
 "nbformat_minor": 5
}
